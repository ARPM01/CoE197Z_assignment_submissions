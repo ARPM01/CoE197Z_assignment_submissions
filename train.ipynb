{
  "nbformat": 4,
  "nbformat_minor": 0,
  "metadata": {
    "colab": {
      "name": "train.ipynb",
      "provenance": [],
      "collapsed_sections": [],
      "include_colab_link": true
    },
    "kernelspec": {
      "name": "python3",
      "display_name": "Python 3"
    },
    "language_info": {
      "name": "python"
    },
    "widgets": {
      "application/vnd.jupyter.widget-state+json": {
        "e0e07c323b6048d19094c2dd52e59652": {
          "model_module": "@jupyter-widgets/controls",
          "model_name": "VBoxModel",
          "model_module_version": "1.5.0",
          "state": {
            "_dom_classes": [],
            "_model_module": "@jupyter-widgets/controls",
            "_model_module_version": "1.5.0",
            "_model_name": "VBoxModel",
            "_view_count": null,
            "_view_module": "@jupyter-widgets/controls",
            "_view_module_version": "1.5.0",
            "_view_name": "VBoxView",
            "box_style": "",
            "children": [
              "IPY_MODEL_2c823905e4ec48eabdab492702debf97",
              "IPY_MODEL_7842bf01f7a044258f5333f843a25b3d"
            ],
            "layout": "IPY_MODEL_7d472660428d429882b770379d091e55"
          }
        },
        "2c823905e4ec48eabdab492702debf97": {
          "model_module": "@jupyter-widgets/controls",
          "model_name": "LabelModel",
          "model_module_version": "1.5.0",
          "state": {
            "_dom_classes": [],
            "_model_module": "@jupyter-widgets/controls",
            "_model_module_version": "1.5.0",
            "_model_name": "LabelModel",
            "_view_count": null,
            "_view_module": "@jupyter-widgets/controls",
            "_view_module_version": "1.5.0",
            "_view_name": "LabelView",
            "description": "",
            "description_tooltip": null,
            "layout": "IPY_MODEL_a1d79a837cbd4e3984dfa49f1d37fe66",
            "placeholder": "​",
            "style": "IPY_MODEL_8566d9cdb5124289aa8b7c7d8b2cf0c7",
            "value": "0.009 MB of 0.009 MB uploaded (0.000 MB deduped)\r"
          }
        },
        "7842bf01f7a044258f5333f843a25b3d": {
          "model_module": "@jupyter-widgets/controls",
          "model_name": "FloatProgressModel",
          "model_module_version": "1.5.0",
          "state": {
            "_dom_classes": [],
            "_model_module": "@jupyter-widgets/controls",
            "_model_module_version": "1.5.0",
            "_model_name": "FloatProgressModel",
            "_view_count": null,
            "_view_module": "@jupyter-widgets/controls",
            "_view_module_version": "1.5.0",
            "_view_name": "ProgressView",
            "bar_style": "",
            "description": "",
            "description_tooltip": null,
            "layout": "IPY_MODEL_50eedb854c3941c3b437b76147e0da8e",
            "max": 1,
            "min": 0,
            "orientation": "horizontal",
            "style": "IPY_MODEL_d9b97596fb3844438fc26c4062451182",
            "value": 1
          }
        },
        "7d472660428d429882b770379d091e55": {
          "model_module": "@jupyter-widgets/base",
          "model_name": "LayoutModel",
          "model_module_version": "1.2.0",
          "state": {
            "_model_module": "@jupyter-widgets/base",
            "_model_module_version": "1.2.0",
            "_model_name": "LayoutModel",
            "_view_count": null,
            "_view_module": "@jupyter-widgets/base",
            "_view_module_version": "1.2.0",
            "_view_name": "LayoutView",
            "align_content": null,
            "align_items": null,
            "align_self": null,
            "border": null,
            "bottom": null,
            "display": null,
            "flex": null,
            "flex_flow": null,
            "grid_area": null,
            "grid_auto_columns": null,
            "grid_auto_flow": null,
            "grid_auto_rows": null,
            "grid_column": null,
            "grid_gap": null,
            "grid_row": null,
            "grid_template_areas": null,
            "grid_template_columns": null,
            "grid_template_rows": null,
            "height": null,
            "justify_content": null,
            "justify_items": null,
            "left": null,
            "margin": null,
            "max_height": null,
            "max_width": null,
            "min_height": null,
            "min_width": null,
            "object_fit": null,
            "object_position": null,
            "order": null,
            "overflow": null,
            "overflow_x": null,
            "overflow_y": null,
            "padding": null,
            "right": null,
            "top": null,
            "visibility": null,
            "width": null
          }
        },
        "a1d79a837cbd4e3984dfa49f1d37fe66": {
          "model_module": "@jupyter-widgets/base",
          "model_name": "LayoutModel",
          "model_module_version": "1.2.0",
          "state": {
            "_model_module": "@jupyter-widgets/base",
            "_model_module_version": "1.2.0",
            "_model_name": "LayoutModel",
            "_view_count": null,
            "_view_module": "@jupyter-widgets/base",
            "_view_module_version": "1.2.0",
            "_view_name": "LayoutView",
            "align_content": null,
            "align_items": null,
            "align_self": null,
            "border": null,
            "bottom": null,
            "display": null,
            "flex": null,
            "flex_flow": null,
            "grid_area": null,
            "grid_auto_columns": null,
            "grid_auto_flow": null,
            "grid_auto_rows": null,
            "grid_column": null,
            "grid_gap": null,
            "grid_row": null,
            "grid_template_areas": null,
            "grid_template_columns": null,
            "grid_template_rows": null,
            "height": null,
            "justify_content": null,
            "justify_items": null,
            "left": null,
            "margin": null,
            "max_height": null,
            "max_width": null,
            "min_height": null,
            "min_width": null,
            "object_fit": null,
            "object_position": null,
            "order": null,
            "overflow": null,
            "overflow_x": null,
            "overflow_y": null,
            "padding": null,
            "right": null,
            "top": null,
            "visibility": null,
            "width": null
          }
        },
        "8566d9cdb5124289aa8b7c7d8b2cf0c7": {
          "model_module": "@jupyter-widgets/controls",
          "model_name": "DescriptionStyleModel",
          "model_module_version": "1.5.0",
          "state": {
            "_model_module": "@jupyter-widgets/controls",
            "_model_module_version": "1.5.0",
            "_model_name": "DescriptionStyleModel",
            "_view_count": null,
            "_view_module": "@jupyter-widgets/base",
            "_view_module_version": "1.2.0",
            "_view_name": "StyleView",
            "description_width": ""
          }
        },
        "50eedb854c3941c3b437b76147e0da8e": {
          "model_module": "@jupyter-widgets/base",
          "model_name": "LayoutModel",
          "model_module_version": "1.2.0",
          "state": {
            "_model_module": "@jupyter-widgets/base",
            "_model_module_version": "1.2.0",
            "_model_name": "LayoutModel",
            "_view_count": null,
            "_view_module": "@jupyter-widgets/base",
            "_view_module_version": "1.2.0",
            "_view_name": "LayoutView",
            "align_content": null,
            "align_items": null,
            "align_self": null,
            "border": null,
            "bottom": null,
            "display": null,
            "flex": null,
            "flex_flow": null,
            "grid_area": null,
            "grid_auto_columns": null,
            "grid_auto_flow": null,
            "grid_auto_rows": null,
            "grid_column": null,
            "grid_gap": null,
            "grid_row": null,
            "grid_template_areas": null,
            "grid_template_columns": null,
            "grid_template_rows": null,
            "height": null,
            "justify_content": null,
            "justify_items": null,
            "left": null,
            "margin": null,
            "max_height": null,
            "max_width": null,
            "min_height": null,
            "min_width": null,
            "object_fit": null,
            "object_position": null,
            "order": null,
            "overflow": null,
            "overflow_x": null,
            "overflow_y": null,
            "padding": null,
            "right": null,
            "top": null,
            "visibility": null,
            "width": null
          }
        },
        "d9b97596fb3844438fc26c4062451182": {
          "model_module": "@jupyter-widgets/controls",
          "model_name": "ProgressStyleModel",
          "model_module_version": "1.5.0",
          "state": {
            "_model_module": "@jupyter-widgets/controls",
            "_model_module_version": "1.5.0",
            "_model_name": "ProgressStyleModel",
            "_view_count": null,
            "_view_module": "@jupyter-widgets/base",
            "_view_module_version": "1.2.0",
            "_view_name": "StyleView",
            "bar_color": null,
            "description_width": ""
          }
        }
      }
    }
  },
  "cells": [
    {
      "cell_type": "markdown",
      "metadata": {
        "id": "view-in-github",
        "colab_type": "text"
      },
      "source": [
        "<a href=\"https://colab.research.google.com/github/ARPM01/FasterRCNN_finetuned/blob/main/train.ipynb\" target=\"_parent\"><img src=\"https://colab.research.google.com/assets/colab-badge.svg\" alt=\"Open In Colab\"/></a>"
      ]
    },
    {
      "cell_type": "code",
      "execution_count": 1,
      "metadata": {
        "id": "L_LLMs29L1MC",
        "colab": {
          "base_uri": "https://localhost:8080/"
        },
        "outputId": "ba08d396-448d-4894-806b-fd9dd26459da"
      },
      "outputs": [
        {
          "output_type": "stream",
          "name": "stdout",
          "text": [
            "Collecting datasets\n",
            "  Downloading datasets-2.1.0-py3-none-any.whl (325 kB)\n",
            "\u001b[?25l\r\u001b[K     |█                               | 10 kB 19.1 MB/s eta 0:00:01\r\u001b[K     |██                              | 20 kB 9.2 MB/s eta 0:00:01\r\u001b[K     |███                             | 30 kB 7.9 MB/s eta 0:00:01\r\u001b[K     |████                            | 40 kB 7.4 MB/s eta 0:00:01\r\u001b[K     |█████                           | 51 kB 4.5 MB/s eta 0:00:01\r\u001b[K     |██████                          | 61 kB 5.4 MB/s eta 0:00:01\r\u001b[K     |███████                         | 71 kB 5.4 MB/s eta 0:00:01\r\u001b[K     |████████                        | 81 kB 5.3 MB/s eta 0:00:01\r\u001b[K     |█████████                       | 92 kB 5.9 MB/s eta 0:00:01\r\u001b[K     |██████████                      | 102 kB 5.3 MB/s eta 0:00:01\r\u001b[K     |███████████                     | 112 kB 5.3 MB/s eta 0:00:01\r\u001b[K     |████████████                    | 122 kB 5.3 MB/s eta 0:00:01\r\u001b[K     |█████████████                   | 133 kB 5.3 MB/s eta 0:00:01\r\u001b[K     |██████████████                  | 143 kB 5.3 MB/s eta 0:00:01\r\u001b[K     |███████████████                 | 153 kB 5.3 MB/s eta 0:00:01\r\u001b[K     |████████████████▏               | 163 kB 5.3 MB/s eta 0:00:01\r\u001b[K     |█████████████████▏              | 174 kB 5.3 MB/s eta 0:00:01\r\u001b[K     |██████████████████▏             | 184 kB 5.3 MB/s eta 0:00:01\r\u001b[K     |███████████████████▏            | 194 kB 5.3 MB/s eta 0:00:01\r\u001b[K     |████████████████████▏           | 204 kB 5.3 MB/s eta 0:00:01\r\u001b[K     |█████████████████████▏          | 215 kB 5.3 MB/s eta 0:00:01\r\u001b[K     |██████████████████████▏         | 225 kB 5.3 MB/s eta 0:00:01\r\u001b[K     |███████████████████████▏        | 235 kB 5.3 MB/s eta 0:00:01\r\u001b[K     |████████████████████████▏       | 245 kB 5.3 MB/s eta 0:00:01\r\u001b[K     |█████████████████████████▏      | 256 kB 5.3 MB/s eta 0:00:01\r\u001b[K     |██████████████████████████▏     | 266 kB 5.3 MB/s eta 0:00:01\r\u001b[K     |███████████████████████████▏    | 276 kB 5.3 MB/s eta 0:00:01\r\u001b[K     |████████████████████████████▏   | 286 kB 5.3 MB/s eta 0:00:01\r\u001b[K     |█████████████████████████████▏  | 296 kB 5.3 MB/s eta 0:00:01\r\u001b[K     |██████████████████████████████▏ | 307 kB 5.3 MB/s eta 0:00:01\r\u001b[K     |███████████████████████████████▏| 317 kB 5.3 MB/s eta 0:00:01\r\u001b[K     |████████████████████████████████| 325 kB 5.3 MB/s \n",
            "\u001b[?25hRequirement already satisfied: requests>=2.19.0 in /usr/local/lib/python3.7/dist-packages (from datasets) (2.23.0)\n",
            "Requirement already satisfied: tqdm>=4.62.1 in /usr/local/lib/python3.7/dist-packages (from datasets) (4.64.0)\n",
            "Requirement already satisfied: multiprocess in /usr/local/lib/python3.7/dist-packages (from datasets) (0.70.12.2)\n",
            "Collecting xxhash\n",
            "  Downloading xxhash-3.0.0-cp37-cp37m-manylinux_2_17_x86_64.manylinux2014_x86_64.whl (212 kB)\n",
            "\u001b[K     |████████████████████████████████| 212 kB 44.4 MB/s \n",
            "\u001b[?25hRequirement already satisfied: pandas in /usr/local/lib/python3.7/dist-packages (from datasets) (1.3.5)\n",
            "Requirement already satisfied: importlib-metadata in /usr/local/lib/python3.7/dist-packages (from datasets) (4.11.3)\n",
            "Requirement already satisfied: numpy>=1.17 in /usr/local/lib/python3.7/dist-packages (from datasets) (1.21.6)\n",
            "Collecting huggingface-hub<1.0.0,>=0.1.0\n",
            "  Downloading huggingface_hub-0.5.1-py3-none-any.whl (77 kB)\n",
            "\u001b[K     |████████████████████████████████| 77 kB 6.1 MB/s \n",
            "\u001b[?25hCollecting responses<0.19\n",
            "  Downloading responses-0.18.0-py3-none-any.whl (38 kB)\n",
            "Requirement already satisfied: pyarrow>=5.0.0 in /usr/local/lib/python3.7/dist-packages (from datasets) (6.0.1)\n",
            "Requirement already satisfied: packaging in /usr/local/lib/python3.7/dist-packages (from datasets) (21.3)\n",
            "Requirement already satisfied: dill in /usr/local/lib/python3.7/dist-packages (from datasets) (0.3.4)\n",
            "Collecting fsspec[http]>=2021.05.0\n",
            "  Downloading fsspec-2022.3.0-py3-none-any.whl (136 kB)\n",
            "\u001b[K     |████████████████████████████████| 136 kB 48.6 MB/s \n",
            "\u001b[?25hCollecting aiohttp\n",
            "  Downloading aiohttp-3.8.1-cp37-cp37m-manylinux_2_5_x86_64.manylinux1_x86_64.manylinux_2_12_x86_64.manylinux2010_x86_64.whl (1.1 MB)\n",
            "\u001b[K     |████████████████████████████████| 1.1 MB 42.8 MB/s \n",
            "\u001b[?25hRequirement already satisfied: pyyaml in /usr/local/lib/python3.7/dist-packages (from huggingface-hub<1.0.0,>=0.1.0->datasets) (3.13)\n",
            "Requirement already satisfied: typing-extensions>=3.7.4.3 in /usr/local/lib/python3.7/dist-packages (from huggingface-hub<1.0.0,>=0.1.0->datasets) (4.2.0)\n",
            "Requirement already satisfied: filelock in /usr/local/lib/python3.7/dist-packages (from huggingface-hub<1.0.0,>=0.1.0->datasets) (3.6.0)\n",
            "Requirement already satisfied: pyparsing!=3.0.5,>=2.0.2 in /usr/local/lib/python3.7/dist-packages (from packaging->datasets) (3.0.8)\n",
            "Requirement already satisfied: certifi>=2017.4.17 in /usr/local/lib/python3.7/dist-packages (from requests>=2.19.0->datasets) (2021.10.8)\n",
            "Requirement already satisfied: urllib3!=1.25.0,!=1.25.1,<1.26,>=1.21.1 in /usr/local/lib/python3.7/dist-packages (from requests>=2.19.0->datasets) (1.24.3)\n",
            "Requirement already satisfied: idna<3,>=2.5 in /usr/local/lib/python3.7/dist-packages (from requests>=2.19.0->datasets) (2.10)\n",
            "Requirement already satisfied: chardet<4,>=3.0.2 in /usr/local/lib/python3.7/dist-packages (from requests>=2.19.0->datasets) (3.0.4)\n",
            "Collecting urllib3!=1.25.0,!=1.25.1,<1.26,>=1.21.1\n",
            "  Downloading urllib3-1.25.11-py2.py3-none-any.whl (127 kB)\n",
            "\u001b[K     |████████████████████████████████| 127 kB 45.4 MB/s \n",
            "\u001b[?25hRequirement already satisfied: attrs>=17.3.0 in /usr/local/lib/python3.7/dist-packages (from aiohttp->datasets) (21.4.0)\n",
            "Collecting multidict<7.0,>=4.5\n",
            "  Downloading multidict-6.0.2-cp37-cp37m-manylinux_2_17_x86_64.manylinux2014_x86_64.whl (94 kB)\n",
            "\u001b[K     |████████████████████████████████| 94 kB 3.4 MB/s \n",
            "\u001b[?25hCollecting async-timeout<5.0,>=4.0.0a3\n",
            "  Downloading async_timeout-4.0.2-py3-none-any.whl (5.8 kB)\n",
            "Collecting aiosignal>=1.1.2\n",
            "  Downloading aiosignal-1.2.0-py3-none-any.whl (8.2 kB)\n",
            "Collecting asynctest==0.13.0\n",
            "  Downloading asynctest-0.13.0-py3-none-any.whl (26 kB)\n",
            "Requirement already satisfied: charset-normalizer<3.0,>=2.0 in /usr/local/lib/python3.7/dist-packages (from aiohttp->datasets) (2.0.12)\n",
            "Collecting frozenlist>=1.1.1\n",
            "  Downloading frozenlist-1.3.0-cp37-cp37m-manylinux_2_5_x86_64.manylinux1_x86_64.manylinux_2_17_x86_64.manylinux2014_x86_64.whl (144 kB)\n",
            "\u001b[K     |████████████████████████████████| 144 kB 48.6 MB/s \n",
            "\u001b[?25hCollecting yarl<2.0,>=1.0\n",
            "  Downloading yarl-1.7.2-cp37-cp37m-manylinux_2_5_x86_64.manylinux1_x86_64.manylinux_2_12_x86_64.manylinux2010_x86_64.whl (271 kB)\n",
            "\u001b[K     |████████████████████████████████| 271 kB 48.3 MB/s \n",
            "\u001b[?25hRequirement already satisfied: zipp>=0.5 in /usr/local/lib/python3.7/dist-packages (from importlib-metadata->datasets) (3.8.0)\n",
            "Requirement already satisfied: pytz>=2017.3 in /usr/local/lib/python3.7/dist-packages (from pandas->datasets) (2022.1)\n",
            "Requirement already satisfied: python-dateutil>=2.7.3 in /usr/local/lib/python3.7/dist-packages (from pandas->datasets) (2.8.2)\n",
            "Requirement already satisfied: six>=1.5 in /usr/local/lib/python3.7/dist-packages (from python-dateutil>=2.7.3->pandas->datasets) (1.15.0)\n",
            "Installing collected packages: multidict, frozenlist, yarl, urllib3, asynctest, async-timeout, aiosignal, fsspec, aiohttp, xxhash, responses, huggingface-hub, datasets\n",
            "  Attempting uninstall: urllib3\n",
            "    Found existing installation: urllib3 1.24.3\n",
            "    Uninstalling urllib3-1.24.3:\n",
            "      Successfully uninstalled urllib3-1.24.3\n",
            "\u001b[31mERROR: pip's dependency resolver does not currently take into account all the packages that are installed. This behaviour is the source of the following dependency conflicts.\n",
            "datascience 0.10.6 requires folium==0.2.1, but you have folium 0.8.3 which is incompatible.\u001b[0m\n",
            "Successfully installed aiohttp-3.8.1 aiosignal-1.2.0 async-timeout-4.0.2 asynctest-0.13.0 datasets-2.1.0 frozenlist-1.3.0 fsspec-2022.3.0 huggingface-hub-0.5.1 multidict-6.0.2 responses-0.18.0 urllib3-1.25.11 xxhash-3.0.0 yarl-1.7.2\n",
            "Requirement already satisfied: matplotlib in /usr/local/lib/python3.7/dist-packages (3.2.2)\n",
            "Requirement already satisfied: cycler>=0.10 in /usr/local/lib/python3.7/dist-packages (from matplotlib) (0.11.0)\n",
            "Requirement already satisfied: pyparsing!=2.0.4,!=2.1.2,!=2.1.6,>=2.0.1 in /usr/local/lib/python3.7/dist-packages (from matplotlib) (3.0.8)\n",
            "Requirement already satisfied: kiwisolver>=1.0.1 in /usr/local/lib/python3.7/dist-packages (from matplotlib) (1.4.2)\n",
            "Requirement already satisfied: numpy>=1.11 in /usr/local/lib/python3.7/dist-packages (from matplotlib) (1.21.6)\n",
            "Requirement already satisfied: python-dateutil>=2.1 in /usr/local/lib/python3.7/dist-packages (from matplotlib) (2.8.2)\n",
            "Requirement already satisfied: typing-extensions in /usr/local/lib/python3.7/dist-packages (from kiwisolver>=1.0.1->matplotlib) (4.2.0)\n",
            "Requirement already satisfied: six>=1.5 in /usr/local/lib/python3.7/dist-packages (from python-dateutil>=2.1->matplotlib) (1.15.0)\n",
            "Requirement already satisfied: numpy in /usr/local/lib/python3.7/dist-packages (1.21.6)\n",
            "Requirement already satisfied: torch in /usr/local/lib/python3.7/dist-packages (1.11.0+cu113)\n",
            "Requirement already satisfied: typing-extensions in /usr/local/lib/python3.7/dist-packages (from torch) (4.2.0)\n",
            "Requirement already satisfied: tqdm in /usr/local/lib/python3.7/dist-packages (4.64.0)\n",
            "Requirement already satisfied: torchvision in /usr/local/lib/python3.7/dist-packages (0.12.0+cu113)\n",
            "Requirement already satisfied: pillow!=8.3.*,>=5.3.0 in /usr/local/lib/python3.7/dist-packages (from torchvision) (7.1.2)\n",
            "Requirement already satisfied: torch==1.11.0 in /usr/local/lib/python3.7/dist-packages (from torchvision) (1.11.0+cu113)\n",
            "Requirement already satisfied: typing-extensions in /usr/local/lib/python3.7/dist-packages (from torchvision) (4.2.0)\n",
            "Requirement already satisfied: numpy in /usr/local/lib/python3.7/dist-packages (from torchvision) (1.21.6)\n",
            "Requirement already satisfied: requests in /usr/local/lib/python3.7/dist-packages (from torchvision) (2.23.0)\n",
            "Requirement already satisfied: idna<3,>=2.5 in /usr/local/lib/python3.7/dist-packages (from requests->torchvision) (2.10)\n",
            "Requirement already satisfied: certifi>=2017.4.17 in /usr/local/lib/python3.7/dist-packages (from requests->torchvision) (2021.10.8)\n",
            "Requirement already satisfied: chardet<4,>=3.0.2 in /usr/local/lib/python3.7/dist-packages (from requests->torchvision) (3.0.4)\n",
            "Requirement already satisfied: urllib3!=1.25.0,!=1.25.1,<1.26,>=1.21.1 in /usr/local/lib/python3.7/dist-packages (from requests->torchvision) (1.25.11)\n",
            "Collecting wandb\n",
            "  Downloading wandb-0.12.15-py2.py3-none-any.whl (1.8 MB)\n",
            "\u001b[K     |████████████████████████████████| 1.8 MB 5.0 MB/s \n",
            "\u001b[?25hRequirement already satisfied: promise<3,>=2.0 in /usr/local/lib/python3.7/dist-packages (from wandb) (2.3)\n",
            "Requirement already satisfied: PyYAML in /usr/local/lib/python3.7/dist-packages (from wandb) (3.13)\n",
            "Collecting GitPython>=1.0.0\n",
            "  Downloading GitPython-3.1.27-py3-none-any.whl (181 kB)\n",
            "\u001b[K     |████████████████████████████████| 181 kB 47.3 MB/s \n",
            "\u001b[?25hRequirement already satisfied: protobuf>=3.12.0 in /usr/local/lib/python3.7/dist-packages (from wandb) (3.17.3)\n",
            "Requirement already satisfied: six>=1.13.0 in /usr/local/lib/python3.7/dist-packages (from wandb) (1.15.0)\n",
            "Collecting sentry-sdk>=1.0.0\n",
            "  Downloading sentry_sdk-1.5.10-py2.py3-none-any.whl (144 kB)\n",
            "\u001b[K     |████████████████████████████████| 144 kB 51.1 MB/s \n",
            "\u001b[?25hRequirement already satisfied: requests<3,>=2.0.0 in /usr/local/lib/python3.7/dist-packages (from wandb) (2.23.0)\n",
            "Collecting docker-pycreds>=0.4.0\n",
            "  Downloading docker_pycreds-0.4.0-py2.py3-none-any.whl (9.0 kB)\n",
            "Collecting pathtools\n",
            "  Downloading pathtools-0.1.2.tar.gz (11 kB)\n",
            "Requirement already satisfied: python-dateutil>=2.6.1 in /usr/local/lib/python3.7/dist-packages (from wandb) (2.8.2)\n",
            "Collecting shortuuid>=0.5.0\n",
            "  Downloading shortuuid-1.0.8-py3-none-any.whl (9.5 kB)\n",
            "Collecting setproctitle\n",
            "  Downloading setproctitle-1.2.3-cp37-cp37m-manylinux_2_5_x86_64.manylinux1_x86_64.manylinux_2_17_x86_64.manylinux2014_x86_64.whl (29 kB)\n",
            "Requirement already satisfied: psutil>=5.0.0 in /usr/local/lib/python3.7/dist-packages (from wandb) (5.4.8)\n",
            "Requirement already satisfied: Click!=8.0.0,>=7.0 in /usr/local/lib/python3.7/dist-packages (from wandb) (7.1.2)\n",
            "Requirement already satisfied: typing-extensions>=3.7.4.3 in /usr/local/lib/python3.7/dist-packages (from GitPython>=1.0.0->wandb) (4.2.0)\n",
            "Collecting gitdb<5,>=4.0.1\n",
            "  Downloading gitdb-4.0.9-py3-none-any.whl (63 kB)\n",
            "\u001b[K     |████████████████████████████████| 63 kB 1.5 MB/s \n",
            "\u001b[?25hCollecting smmap<6,>=3.0.1\n",
            "  Downloading smmap-5.0.0-py3-none-any.whl (24 kB)\n",
            "Requirement already satisfied: chardet<4,>=3.0.2 in /usr/local/lib/python3.7/dist-packages (from requests<3,>=2.0.0->wandb) (3.0.4)\n",
            "Requirement already satisfied: idna<3,>=2.5 in /usr/local/lib/python3.7/dist-packages (from requests<3,>=2.0.0->wandb) (2.10)\n",
            "Requirement already satisfied: urllib3!=1.25.0,!=1.25.1,<1.26,>=1.21.1 in /usr/local/lib/python3.7/dist-packages (from requests<3,>=2.0.0->wandb) (1.25.11)\n",
            "Requirement already satisfied: certifi>=2017.4.17 in /usr/local/lib/python3.7/dist-packages (from requests<3,>=2.0.0->wandb) (2021.10.8)\n",
            "Building wheels for collected packages: pathtools\n",
            "  Building wheel for pathtools (setup.py) ... \u001b[?25l\u001b[?25hdone\n",
            "  Created wheel for pathtools: filename=pathtools-0.1.2-py3-none-any.whl size=8806 sha256=0fb18c957945126b943bd3bb9559bdee3b2f4701d5a6d31e72bd571b359204f3\n",
            "  Stored in directory: /root/.cache/pip/wheels/3e/31/09/fa59cef12cdcfecc627b3d24273699f390e71828921b2cbba2\n",
            "Successfully built pathtools\n",
            "Installing collected packages: smmap, gitdb, shortuuid, setproctitle, sentry-sdk, pathtools, GitPython, docker-pycreds, wandb\n",
            "Successfully installed GitPython-3.1.27 docker-pycreds-0.4.0 gitdb-4.0.9 pathtools-0.1.2 sentry-sdk-1.5.10 setproctitle-1.2.3 shortuuid-1.0.8 smmap-5.0.0 wandb-0.12.15\n"
          ]
        }
      ],
      "source": [
        "!pip install datasets\n",
        "!pip install matplotlib\n",
        "!pip install numpy\n",
        "!pip install torch\n",
        "!pip install tqdm\n",
        "!pip install torchvision\n",
        "!pip install wandb"
      ]
    },
    {
      "cell_type": "code",
      "source": [
        "!git status"
      ],
      "metadata": {
        "colab": {
          "base_uri": "https://localhost:8080/"
        },
        "id": "xb4al_blG2De",
        "outputId": "bda86853-d9ee-4c2e-9e37-3b3b58e48950"
      },
      "execution_count": 5,
      "outputs": [
        {
          "output_type": "stream",
          "name": "stdout",
          "text": [
            "On branch main\n",
            "Your branch is up to date with 'origin/main'.\n",
            "\n",
            "Changes not staged for commit:\n",
            "  (use \"git add <file>...\" to update what will be committed)\n",
            "  (use \"git checkout -- <file>...\" to discard changes in working directory)\n",
            "\n",
            "\t\u001b[31mmodified:   train.ipynb\u001b[m\n",
            "\n",
            "Untracked files:\n",
            "  (use \"git add <file>...\" to include in what will be committed)\n",
            "\n",
            "\t\u001b[31m__pycache__/\u001b[m\n",
            "\t\u001b[31mdrinks/\u001b[m\n",
            "\t\u001b[31mmodel_weights.pth\u001b[m\n",
            "\t\u001b[31mwandb/\u001b[m\n",
            "\n",
            "no changes added to commit (use \"git add\" and/or \"git commit -a\")\n"
          ]
        }
      ]
    },
    {
      "cell_type": "code",
      "source": [
        "!git add train.ipynb"
      ],
      "metadata": {
        "id": "pYxEVeYAG_vG"
      },
      "execution_count": 6,
      "outputs": []
    },
    {
      "cell_type": "code",
      "source": [
        "!git commit -a -m  \"Revised train.ipynb\""
      ],
      "metadata": {
        "colab": {
          "base_uri": "https://localhost:8080/"
        },
        "id": "ySZElirSHPj6",
        "outputId": "6182fdfb-ff25-4578-e6e0-237faa0e9e8d"
      },
      "execution_count": 10,
      "outputs": [
        {
          "output_type": "stream",
          "name": "stdout",
          "text": [
            "[main fe9ba29] Revised train.ipynb\n",
            " 1 file changed, 1 insertion(+), 1 deletion(-)\n",
            " rewrite train.ipynb (98%)\n"
          ]
        }
      ]
    },
    {
      "cell_type": "code",
      "source": [
        "!git push gdrive master"
      ],
      "metadata": {
        "colab": {
          "base_uri": "https://localhost:8080/"
        },
        "id": "pPqnfr5_ISPl",
        "outputId": "e0a8afe1-d5de-4383-cd9f-8b249c10ad8f"
      },
      "execution_count": 5,
      "outputs": [
        {
          "output_type": "stream",
          "name": "stdout",
          "text": [
            "fatal: not a git repository (or any of the parent directories): .git\n"
          ]
        }
      ]
    },
    {
      "cell_type": "code",
      "source": [
        "from google.colab import drive\n",
        "drive.mount('/content/drive')"
      ],
      "metadata": {
        "colab": {
          "base_uri": "https://localhost:8080/"
        },
        "id": "rc9LUKXUL-e4",
        "outputId": "e0678762-e71e-4f20-c52a-080edffdc19e"
      },
      "execution_count": 2,
      "outputs": [
        {
          "output_type": "stream",
          "name": "stdout",
          "text": [
            "Mounted at /content/drive\n"
          ]
        }
      ]
    },
    {
      "cell_type": "code",
      "source": [
        "cd /content/drive/MyDrive/Colab Notebooks/FasterRCNN_finetuned"
      ],
      "metadata": {
        "colab": {
          "base_uri": "https://localhost:8080/"
        },
        "id": "CfUVMq-HMvQq",
        "outputId": "9488500b-2381-45c0-d4bd-752f9287c6cf"
      },
      "execution_count": 3,
      "outputs": [
        {
          "output_type": "stream",
          "name": "stdout",
          "text": [
            "/content/drive/MyDrive/Colab Notebooks/FasterRCNN_finetuned\n"
          ]
        }
      ]
    },
    {
      "cell_type": "code",
      "source": [
        "ls"
      ],
      "metadata": {
        "colab": {
          "base_uri": "https://localhost:8080/"
        },
        "id": "9twUELoFme4a",
        "outputId": "08044f85-831b-4448-f8d3-50f1432ce37f"
      },
      "execution_count": 4,
      "outputs": [
        {
          "output_type": "stream",
          "name": "stdout",
          "text": [
            "coco_eval.py   \u001b[0m\u001b[01;34mdrinks\u001b[0m/         model_weights.pth  train.ipynb    \u001b[01;34mwandb\u001b[0m/\n",
            "coco_utils.py  engine.py       \u001b[01;34m__pycache__\u001b[0m/       transforms.py\n",
            "config.py      label_utils.py  README.md          utils.py\n"
          ]
        }
      ]
    },
    {
      "cell_type": "code",
      "source": [
        "import torch\n",
        "import numpy as np\n",
        "import wandb\n",
        "import torchvision\n",
        "import os\n",
        "\n",
        "import label_utils\n",
        "import utils\n",
        "\n",
        "from torch.utils.data import DataLoader\n",
        "from torchvision import transforms\n",
        "from PIL import Image\n",
        "\n",
        "from engine import train_one_epoch, evaluate\n",
        "from torchvision.models.detection.faster_rcnn import FastRCNNPredictor\n",
        "\n",
        "if torch.cuda.is_available():\n",
        "    torch.set_default_tensor_type('torch.cuda.FloatTensor')"
      ],
      "metadata": {
        "id": "RilQIK7tNus8"
      },
      "execution_count": 15,
      "outputs": []
    },
    {
      "cell_type": "code",
      "source": [
        "wandb.login()\n",
        "config = {\n",
        "    \"num_workers\": 0,\n",
        "    \"pin_memory\": False,\n",
        "    \"batch_size\": 8,\n",
        "    \"dataset\": \"drinks\",\n",
        "    \"train_split\": \"drinks/labels_train.csv\",\n",
        "    \"test_split\": \"drinks/labels_test.csv\",}\n",
        "run = wandb.init(project=\"197_Assignment_2\", entity=\"arpm\", config=config)"
      ],
      "metadata": {
        "id": "Remj-y1vsIph",
        "colab": {
          "base_uri": "https://localhost:8080/",
          "height": 191,
          "referenced_widgets": [
            "e0e07c323b6048d19094c2dd52e59652",
            "2c823905e4ec48eabdab492702debf97",
            "7842bf01f7a044258f5333f843a25b3d",
            "7d472660428d429882b770379d091e55",
            "a1d79a837cbd4e3984dfa49f1d37fe66",
            "8566d9cdb5124289aa8b7c7d8b2cf0c7",
            "50eedb854c3941c3b437b76147e0da8e",
            "d9b97596fb3844438fc26c4062451182"
          ]
        },
        "outputId": "b1ba18d2-f42a-4f0f-a7a2-25121b0c17bd"
      },
      "execution_count": 31,
      "outputs": [
        {
          "output_type": "stream",
          "name": "stderr",
          "text": [
            "\u001b[34m\u001b[1mwandb\u001b[0m: \u001b[33mWARNING\u001b[0m Calling wandb.login() after wandb.init() has no effect.\n"
          ]
        },
        {
          "output_type": "display_data",
          "data": {
            "text/plain": [
              "<IPython.core.display.HTML object>"
            ],
            "text/html": [
              "Finishing last run (ID:1k8s6aga) before initializing another..."
            ]
          },
          "metadata": {}
        },
        {
          "output_type": "display_data",
          "data": {
            "text/plain": [
              "<IPython.core.display.HTML object>"
            ],
            "text/html": [
              "Waiting for W&B process to finish... <strong style=\"color:green\">(success).</strong>"
            ]
          },
          "metadata": {}
        },
        {
          "output_type": "display_data",
          "data": {
            "text/plain": [
              "VBox(children=(Label(value='0.001 MB of 0.001 MB uploaded (0.000 MB deduped)\\r'), FloatProgress(value=1.0, max…"
            ],
            "application/vnd.jupyter.widget-view+json": {
              "version_major": 2,
              "version_minor": 0,
              "model_id": "e0e07c323b6048d19094c2dd52e59652"
            }
          },
          "metadata": {}
        },
        {
          "output_type": "display_data",
          "data": {
            "text/plain": [
              "<IPython.core.display.HTML object>"
            ],
            "text/html": [
              "Synced <strong style=\"color:#cdcd00\">true-serenity-27</strong>: <a href=\"https://wandb.ai/arpm/197_Assignment_2/runs/1k8s6aga\" target=\"_blank\">https://wandb.ai/arpm/197_Assignment_2/runs/1k8s6aga</a><br/>Synced 5 W&B file(s), 0 media file(s), 0 artifact file(s) and 0 other file(s)"
            ]
          },
          "metadata": {}
        },
        {
          "output_type": "display_data",
          "data": {
            "text/plain": [
              "<IPython.core.display.HTML object>"
            ],
            "text/html": [
              "Find logs at: <code>./wandb/run-20220502_102748-1k8s6aga/logs</code>"
            ]
          },
          "metadata": {}
        },
        {
          "output_type": "display_data",
          "data": {
            "text/plain": [
              "<IPython.core.display.HTML object>"
            ],
            "text/html": [
              "Successfully finished last run (ID:1k8s6aga). Initializing new run:<br/>"
            ]
          },
          "metadata": {}
        },
        {
          "output_type": "display_data",
          "data": {
            "text/plain": [
              "<IPython.core.display.HTML object>"
            ],
            "text/html": [
              "Tracking run with wandb version 0.12.15"
            ]
          },
          "metadata": {}
        },
        {
          "output_type": "display_data",
          "data": {
            "text/plain": [
              "<IPython.core.display.HTML object>"
            ],
            "text/html": [
              "Run data is saved locally in <code>/content/drive/MyDrive/Colab Notebooks/FasterRCNN_finetuned/wandb/run-20220502_102840-592jo54s</code>"
            ]
          },
          "metadata": {}
        },
        {
          "output_type": "display_data",
          "data": {
            "text/plain": [
              "<IPython.core.display.HTML object>"
            ],
            "text/html": [
              "Syncing run <strong><a href=\"https://wandb.ai/arpm/197_Assignment_2/runs/592jo54s\" target=\"_blank\">distinctive-wave-28</a></strong> to <a href=\"https://wandb.ai/arpm/197_Assignment_2\" target=\"_blank\">Weights & Biases</a> (<a href=\"https://wandb.me/run\" target=\"_blank\">docs</a>)<br/>"
            ]
          },
          "metadata": {}
        }
      ]
    },
    {
      "cell_type": "code",
      "source": [
        "test_dict, test_classes = label_utils.build_label_dictionary(\n",
        "    config['test_split'])\n",
        "train_dict, train_classes = label_utils.build_label_dictionary(\n",
        "    config['train_split'])\n",
        "\n",
        "class ImageDataset(torch.utils.data.Dataset):\n",
        "    def __init__(self, root, dictionary, transforms=None):\n",
        "        self.dictionary = dictionary\n",
        "        self.root = root\n",
        "        self.transforms = transforms\n",
        "        self.imgs = list(os.listdir(os.path.join(root, \"drinks\")))\n",
        "    def __len__(self):\n",
        "        return len(self.dictionary)\n",
        "\n",
        "    def __getitem__(self, idx):\n",
        "\n",
        "        key = list(self.dictionary.keys())[idx]\n",
        "        img = Image.open(key)\n",
        "        \n",
        "        num_objs = len(self.dictionary[key])\n",
        "\n",
        "        b_temp = self.dictionary[key]\n",
        "        b_temp2 = [[j[i] for i in range(4)] for j in b_temp]  #remove class from value\n",
        "        boxes = [[i[0], i[2], i[1], i[3]] for i in b_temp2] #in [xmin, ymin, xmax, ymax]\n",
        "\n",
        "        boxes = torch.as_tensor(boxes, dtype=torch.float32)\n",
        "        labels = torch.tensor([i[4] for i in b_temp], dtype=torch.int64)\n",
        "        image_id = torch.tensor([idx])\n",
        "        area = (boxes[:, 3] - boxes[:, 1]) * (boxes[:, 2] - boxes[:, 0])\n",
        "\n",
        "        target = {}\n",
        "        target[\"boxes\"] = boxes\n",
        "        target[\"labels\"] = labels\n",
        "        target[\"image_id\"] = image_id\n",
        "        target[\"area\"] = area\n",
        "\n",
        "        if self.transforms:\n",
        "            img = self.transforms(img)\n",
        "\n",
        "        return img, target\n",
        "\n",
        "train_split = ImageDataset(\"\", train_dict, transforms.ToTensor())\n",
        "test_split = ImageDataset(\"\", test_dict, transforms.ToTensor())\n",
        "\n",
        "print(\"Train split len:\", len(train_split), train_split)\n",
        "print(\"Test split len:\", len(test_split), test_split)\n",
        "\n",
        "train_loader = DataLoader(train_split,\n",
        "                          batch_size=config['batch_size'],\n",
        "                          shuffle=False,\n",
        "                          num_workers=config['num_workers'],\n",
        "                          pin_memory=config['pin_memory'],\n",
        "                          collate_fn=utils.collate_fn)\n",
        "\n",
        "test_loader = DataLoader(test_split,\n",
        "                         batch_size=config['batch_size'],\n",
        "                         shuffle=False,\n",
        "                         num_workers=config['num_workers'],\n",
        "                         pin_memory=config['pin_memory'],\n",
        "                         collate_fn=utils.collate_fn)"
      ],
      "metadata": {
        "id": "DTE_pD_bjSUe",
        "colab": {
          "base_uri": "https://localhost:8080/"
        },
        "outputId": "346aef0a-5d90-4c3a-c097-fc888c944624"
      },
      "execution_count": 32,
      "outputs": [
        {
          "output_type": "stream",
          "name": "stdout",
          "text": [
            "Train split len: 996 <__main__.ImageDataset object at 0x7f87bdc61f10>\n",
            "Test split len: 51 <__main__.ImageDataset object at 0x7f87bdc61e90>\n",
            "<torch.utils.data.dataloader.DataLoader object at 0x7f87be59d790>\n",
            "<torch.utils.data.dataloader.DataLoader object at 0x7f87be59da50>\n"
          ]
        }
      ]
    },
    {
      "cell_type": "code",
      "source": [
        "device = torch.device('cuda') if torch.cuda.is_available() else torch.device('cpu')\n",
        "model = torchvision.models.detection.fasterrcnn_resnet50_fpn(pretrained=True)\n",
        "model.to(device)\n",
        "params = [p for p in model.parameters() if p.requires_grad]\n",
        "optimizer = torch.optim.SGD(params, lr=0.005, momentum=0.9, weight_decay=0.0005)\n",
        "lr_scheduler = torch.optim.lr_scheduler.StepLR(optimizer, step_size=3, gamma=0.1)\n",
        "num_epochs = 10\n",
        "\n",
        "for epoch in range(num_epochs):\n",
        "  train_one_epoch(model, optimizer, train_loader, device, epoch, print_freq=5)\n",
        "  lr_scheduler.step()\n",
        "  evaluate(model, test_loader, device=device)\n",
        "\n",
        "wandb.finish()\n",
        "print(\"Saving the trained model\")\n",
        "torch.save(model.state_dict(), 'model_weights.pth')"
      ],
      "metadata": {
        "id": "lnsx_SoXq6ba",
        "colab": {
          "base_uri": "https://localhost:8080/",
          "height": 869
        },
        "outputId": "7483fd34-166e-487d-aef5-4c6e93b3d5b2"
      },
      "execution_count": 33,
      "outputs": [
        {
          "output_type": "stream",
          "name": "stdout",
          "text": [
            "Epoch: [0]  [  0/125]  eta: 0:12:46  lr: 0.000045  loss: 1.2773 (1.2773)  loss_classifier: 1.1261 (1.1261)  loss_box_reg: 0.1228 (0.1228)  loss_objectness: 0.0204 (0.0204)  loss_rpn_box_reg: 0.0079 (0.0079)  time: 6.1314  data: 0.1093  max mem: 10085\n",
            "Epoch: [0]  [  5/125]  eta: 0:13:53  lr: 0.000247  loss: 1.2773 (1.2870)  loss_classifier: 1.1261 (1.1434)  loss_box_reg: 0.1220 (0.1220)  loss_objectness: 0.0148 (0.0164)  loss_rpn_box_reg: 0.0048 (0.0052)  time: 6.9426  data: 1.1621  max mem: 10408\n",
            "Epoch: [0]  [ 10/125]  eta: 0:12:28  lr: 0.000448  loss: 1.1354 (1.0864)  loss_classifier: 1.0087 (0.9559)  loss_box_reg: 0.1090 (0.1091)  loss_objectness: 0.0148 (0.0162)  loss_rpn_box_reg: 0.0054 (0.0052)  time: 6.5051  data: 0.6821  max mem: 10408\n",
            "Epoch: [0]  [ 15/125]  eta: 0:11:38  lr: 0.000650  loss: 0.8619 (0.8801)  loss_classifier: 0.7403 (0.7585)  loss_box_reg: 0.0995 (0.1016)  loss_objectness: 0.0144 (0.0151)  loss_rpn_box_reg: 0.0048 (0.0049)  time: 6.3475  data: 0.5008  max mem: 10408\n",
            "Epoch: [0]  [ 20/125]  eta: 0:10:57  lr: 0.000851  loss: 0.5838 (0.7812)  loss_classifier: 0.4563 (0.6596)  loss_box_reg: 0.0995 (0.1037)  loss_objectness: 0.0120 (0.0135)  loss_rpn_box_reg: 0.0044 (0.0044)  time: 6.2636  data: 0.4192  max mem: 10408\n",
            "Epoch: [0]  [ 25/125]  eta: 0:10:20  lr: 0.001052  loss: 0.4530 (0.6971)  loss_classifier: 0.3347 (0.5750)  loss_box_reg: 0.0937 (0.1048)  loss_objectness: 0.0101 (0.0128)  loss_rpn_box_reg: 0.0044 (0.0046)  time: 5.9816  data: 0.1015  max mem: 10408\n",
            "Epoch: [0]  [ 30/125]  eta: 0:09:45  lr: 0.001254  loss: 0.4002 (0.6378)  loss_classifier: 0.2539 (0.5109)  loss_box_reg: 0.0937 (0.1084)  loss_objectness: 0.0093 (0.0119)  loss_rpn_box_reg: 0.0039 (0.0067)  time: 5.9792  data: 0.1013  max mem: 10408\n",
            "Epoch: [0]  [ 35/125]  eta: 0:09:12  lr: 0.001455  loss: 0.3103 (0.5820)  loss_classifier: 0.1840 (0.4554)  loss_box_reg: 0.1078 (0.1083)  loss_objectness: 0.0086 (0.0117)  loss_rpn_box_reg: 0.0047 (0.0066)  time: 5.9777  data: 0.1018  max mem: 10408\n",
            "Epoch: [0]  [ 40/125]  eta: 0:08:40  lr: 0.001657  loss: 0.2652 (0.5417)  loss_classifier: 0.1572 (0.4168)  loss_box_reg: 0.1038 (0.1069)  loss_objectness: 0.0083 (0.0117)  loss_rpn_box_reg: 0.0047 (0.0063)  time: 5.9762  data: 0.1026  max mem: 10408\n",
            "Epoch: [0]  [ 45/125]  eta: 0:08:08  lr: 0.001858  loss: 0.2538 (0.5099)  loss_classifier: 0.1350 (0.3860)  loss_box_reg: 0.1015 (0.1060)  loss_objectness: 0.0080 (0.0115)  loss_rpn_box_reg: 0.0053 (0.0064)  time: 5.9735  data: 0.1025  max mem: 10408\n",
            "Epoch: [0]  [ 50/125]  eta: 0:07:36  lr: 0.002059  loss: 0.2312 (0.4794)  loss_classifier: 0.1103 (0.3572)  loss_box_reg: 0.1009 (0.1053)  loss_objectness: 0.0074 (0.0108)  loss_rpn_box_reg: 0.0051 (0.0062)  time: 5.9761  data: 0.1018  max mem: 10408\n",
            "Epoch: [0]  [ 55/125]  eta: 0:07:05  lr: 0.002261  loss: 0.2032 (0.4483)  loss_classifier: 0.0960 (0.3302)  loss_box_reg: 0.0830 (0.1022)  loss_objectness: 0.0059 (0.0100)  loss_rpn_box_reg: 0.0039 (0.0059)  time: 5.9741  data: 0.0997  max mem: 10408\n",
            "Epoch: [0]  [ 60/125]  eta: 0:06:34  lr: 0.002462  loss: 0.1512 (0.4219)  loss_classifier: 0.0732 (0.3072)  loss_box_reg: 0.0744 (0.0991)  loss_objectness: 0.0036 (0.0098)  loss_rpn_box_reg: 0.0036 (0.0057)  time: 5.9781  data: 0.1006  max mem: 10408\n",
            "Epoch: [0]  [ 65/125]  eta: 0:06:03  lr: 0.002664  loss: 0.1326 (0.3997)  loss_classifier: 0.0508 (0.2872)  loss_box_reg: 0.0744 (0.0977)  loss_objectness: 0.0025 (0.0093)  loss_rpn_box_reg: 0.0034 (0.0055)  time: 5.9819  data: 0.1014  max mem: 10408\n",
            "Epoch: [0]  [ 70/125]  eta: 0:05:33  lr: 0.002865  loss: 0.1259 (0.3929)  loss_classifier: 0.0471 (0.2793)  loss_box_reg: 0.0745 (0.0983)  loss_objectness: 0.0025 (0.0098)  loss_rpn_box_reg: 0.0033 (0.0055)  time: 5.9791  data: 0.1009  max mem: 10408\n",
            "Epoch: [0]  [ 75/125]  eta: 0:05:02  lr: 0.003066  loss: 0.1374 (0.3909)  loss_classifier: 0.0483 (0.2748)  loss_box_reg: 0.0783 (0.1009)  loss_objectness: 0.0031 (0.0097)  loss_rpn_box_reg: 0.0036 (0.0055)  time: 5.9829  data: 0.0994  max mem: 10408\n",
            "Epoch: [0]  [ 80/125]  eta: 0:04:32  lr: 0.003268  loss: 0.2398 (0.3842)  loss_classifier: 0.1137 (0.2660)  loss_box_reg: 0.1029 (0.1015)  loss_objectness: 0.0068 (0.0111)  loss_rpn_box_reg: 0.0043 (0.0056)  time: 5.9837  data: 0.0977  max mem: 10408\n",
            "Epoch: [0]  [ 85/125]  eta: 0:04:01  lr: 0.003469  loss: 0.2511 (0.3762)  loss_classifier: 0.1213 (0.2568)  loss_box_reg: 0.1188 (0.1029)  loss_objectness: 0.0080 (0.0109)  loss_rpn_box_reg: 0.0049 (0.0056)  time: 5.9814  data: 0.0962  max mem: 10408\n",
            "Epoch: [0]  [ 90/125]  eta: 0:03:31  lr: 0.003671  loss: 0.3137 (0.3770)  loss_classifier: 0.1519 (0.2544)  loss_box_reg: 0.1248 (0.1057)  loss_objectness: 0.0084 (0.0110)  loss_rpn_box_reg: 0.0061 (0.0059)  time: 5.9857  data: 0.0965  max mem: 10408\n",
            "Epoch: [0]  [ 95/125]  eta: 0:03:01  lr: 0.003872  loss: 0.2412 (0.3684)  loss_classifier: 0.1107 (0.2456)  loss_box_reg: 0.1152 (0.1060)  loss_objectness: 0.0084 (0.0108)  loss_rpn_box_reg: 0.0061 (0.0059)  time: 5.9893  data: 0.1009  max mem: 10408\n",
            "Epoch: [0]  [100/125]  eta: 0:02:30  lr: 0.004074  loss: 0.2314 (0.3616)  loss_classifier: 0.0861 (0.2378)  loss_box_reg: 0.1164 (0.1074)  loss_objectness: 0.0070 (0.0104)  loss_rpn_box_reg: 0.0062 (0.0059)  time: 5.9862  data: 0.1012  max mem: 10408\n",
            "Epoch: [0]  [105/125]  eta: 0:02:00  lr: 0.004275  loss: 0.2147 (0.3537)  loss_classifier: 0.0850 (0.2303)  loss_box_reg: 0.1164 (0.1075)  loss_objectness: 0.0044 (0.0100)  loss_rpn_box_reg: 0.0062 (0.0059)  time: 5.9836  data: 0.1001  max mem: 10408\n",
            "Epoch: [0]  [110/125]  eta: 0:01:30  lr: 0.004476  loss: 0.1948 (0.3462)  loss_classifier: 0.0818 (0.2234)  loss_box_reg: 0.1117 (0.1071)  loss_objectness: 0.0039 (0.0098)  loss_rpn_box_reg: 0.0051 (0.0058)  time: 5.9814  data: 0.0986  max mem: 10408\n",
            "Epoch: [0]  [115/125]  eta: 0:01:00  lr: 0.004678  loss: 0.1789 (0.3376)  loss_classifier: 0.0616 (0.2158)  loss_box_reg: 0.1064 (0.1065)  loss_objectness: 0.0027 (0.0096)  loss_rpn_box_reg: 0.0044 (0.0058)  time: 5.9724  data: 0.0947  max mem: 10408\n",
            "Epoch: [0]  [120/125]  eta: 0:00:30  lr: 0.004879  loss: 0.1603 (0.3297)  loss_classifier: 0.0554 (0.2090)  loss_box_reg: 0.1025 (0.1058)  loss_objectness: 0.0031 (0.0093)  loss_rpn_box_reg: 0.0039 (0.0057)  time: 5.9727  data: 0.0941  max mem: 10408\n",
            "Epoch: [0]  [124/125]  eta: 0:00:05  lr: 0.005000  loss: 0.1449 (0.3221)  loss_classifier: 0.0490 (0.2033)  loss_box_reg: 0.0814 (0.1042)  loss_objectness: 0.0033 (0.0091)  loss_rpn_box_reg: 0.0042 (0.0056)  time: 5.8051  data: 0.0925  max mem: 10408\n",
            "Epoch: [0] Total time: 0:12:29 (5.9995 s / it)\n"
          ]
        },
        {
          "output_type": "error",
          "ename": "KeyError",
          "evalue": "ignored",
          "traceback": [
            "\u001b[0;31m---------------------------------------------------------------------------\u001b[0m",
            "\u001b[0;31mKeyError\u001b[0m                                  Traceback (most recent call last)",
            "\u001b[0;32m<ipython-input-33-9872f0a14792>\u001b[0m in \u001b[0;36m<module>\u001b[0;34m()\u001b[0m\n\u001b[1;32m     13\u001b[0m   \u001b[0mtrain_one_epoch\u001b[0m\u001b[0;34m(\u001b[0m\u001b[0mmodel\u001b[0m\u001b[0;34m,\u001b[0m \u001b[0moptimizer\u001b[0m\u001b[0;34m,\u001b[0m \u001b[0mtrain_loader\u001b[0m\u001b[0;34m,\u001b[0m \u001b[0mdevice\u001b[0m\u001b[0;34m,\u001b[0m \u001b[0mepoch\u001b[0m\u001b[0;34m,\u001b[0m \u001b[0mprint_freq\u001b[0m\u001b[0;34m=\u001b[0m\u001b[0;36m5\u001b[0m\u001b[0;34m)\u001b[0m\u001b[0;34m\u001b[0m\u001b[0;34m\u001b[0m\u001b[0m\n\u001b[1;32m     14\u001b[0m   \u001b[0mlr_scheduler\u001b[0m\u001b[0;34m.\u001b[0m\u001b[0mstep\u001b[0m\u001b[0;34m(\u001b[0m\u001b[0;34m)\u001b[0m\u001b[0;34m\u001b[0m\u001b[0;34m\u001b[0m\u001b[0m\n\u001b[0;32m---> 15\u001b[0;31m   \u001b[0mevaluate\u001b[0m\u001b[0;34m(\u001b[0m\u001b[0mmodel\u001b[0m\u001b[0;34m,\u001b[0m \u001b[0mtest_loader\u001b[0m\u001b[0;34m,\u001b[0m \u001b[0mdevice\u001b[0m\u001b[0;34m=\u001b[0m\u001b[0mdevice\u001b[0m\u001b[0;34m)\u001b[0m\u001b[0;34m\u001b[0m\u001b[0;34m\u001b[0m\u001b[0m\n\u001b[0m\u001b[1;32m     16\u001b[0m \u001b[0;34m\u001b[0m\u001b[0m\n\u001b[1;32m     17\u001b[0m \u001b[0mwandb\u001b[0m\u001b[0;34m.\u001b[0m\u001b[0mfinish\u001b[0m\u001b[0;34m(\u001b[0m\u001b[0;34m)\u001b[0m\u001b[0;34m\u001b[0m\u001b[0;34m\u001b[0m\u001b[0m\n",
            "\u001b[0;32m/usr/local/lib/python3.7/dist-packages/torch/autograd/grad_mode.py\u001b[0m in \u001b[0;36mdecorate_context\u001b[0;34m(*args, **kwargs)\u001b[0m\n\u001b[1;32m     25\u001b[0m         \u001b[0;32mdef\u001b[0m \u001b[0mdecorate_context\u001b[0m\u001b[0;34m(\u001b[0m\u001b[0;34m*\u001b[0m\u001b[0margs\u001b[0m\u001b[0;34m,\u001b[0m \u001b[0;34m**\u001b[0m\u001b[0mkwargs\u001b[0m\u001b[0;34m)\u001b[0m\u001b[0;34m:\u001b[0m\u001b[0;34m\u001b[0m\u001b[0;34m\u001b[0m\u001b[0m\n\u001b[1;32m     26\u001b[0m             \u001b[0;32mwith\u001b[0m \u001b[0mself\u001b[0m\u001b[0;34m.\u001b[0m\u001b[0mclone\u001b[0m\u001b[0;34m(\u001b[0m\u001b[0;34m)\u001b[0m\u001b[0;34m:\u001b[0m\u001b[0;34m\u001b[0m\u001b[0;34m\u001b[0m\u001b[0m\n\u001b[0;32m---> 27\u001b[0;31m                 \u001b[0;32mreturn\u001b[0m \u001b[0mfunc\u001b[0m\u001b[0;34m(\u001b[0m\u001b[0;34m*\u001b[0m\u001b[0margs\u001b[0m\u001b[0;34m,\u001b[0m \u001b[0;34m**\u001b[0m\u001b[0mkwargs\u001b[0m\u001b[0;34m)\u001b[0m\u001b[0;34m\u001b[0m\u001b[0;34m\u001b[0m\u001b[0m\n\u001b[0m\u001b[1;32m     28\u001b[0m         \u001b[0;32mreturn\u001b[0m \u001b[0mcast\u001b[0m\u001b[0;34m(\u001b[0m\u001b[0mF\u001b[0m\u001b[0;34m,\u001b[0m \u001b[0mdecorate_context\u001b[0m\u001b[0;34m)\u001b[0m\u001b[0;34m\u001b[0m\u001b[0;34m\u001b[0m\u001b[0m\n\u001b[1;32m     29\u001b[0m \u001b[0;34m\u001b[0m\u001b[0m\n",
            "\u001b[0;32m/content/drive/MyDrive/Colab Notebooks/FasterRCNN_finetuned/engine.py\u001b[0m in \u001b[0;36mevaluate\u001b[0;34m(model, data_loader, device)\u001b[0m\n\u001b[1;32m     83\u001b[0m     \u001b[0mheader\u001b[0m \u001b[0;34m=\u001b[0m \u001b[0;34m\"Test:\"\u001b[0m\u001b[0;34m\u001b[0m\u001b[0;34m\u001b[0m\u001b[0m\n\u001b[1;32m     84\u001b[0m \u001b[0;34m\u001b[0m\u001b[0m\n\u001b[0;32m---> 85\u001b[0;31m     \u001b[0mcoco\u001b[0m \u001b[0;34m=\u001b[0m \u001b[0mget_coco_api_from_dataset\u001b[0m\u001b[0;34m(\u001b[0m\u001b[0mdata_loader\u001b[0m\u001b[0;34m.\u001b[0m\u001b[0mdataset\u001b[0m\u001b[0;34m)\u001b[0m\u001b[0;34m\u001b[0m\u001b[0;34m\u001b[0m\u001b[0m\n\u001b[0m\u001b[1;32m     86\u001b[0m     \u001b[0miou_types\u001b[0m \u001b[0;34m=\u001b[0m \u001b[0m_get_iou_types\u001b[0m\u001b[0;34m(\u001b[0m\u001b[0mmodel\u001b[0m\u001b[0;34m)\u001b[0m\u001b[0;34m\u001b[0m\u001b[0;34m\u001b[0m\u001b[0m\n\u001b[1;32m     87\u001b[0m     \u001b[0mcoco_evaluator\u001b[0m \u001b[0;34m=\u001b[0m \u001b[0mCocoEvaluator\u001b[0m\u001b[0;34m(\u001b[0m\u001b[0mcoco\u001b[0m\u001b[0;34m,\u001b[0m \u001b[0miou_types\u001b[0m\u001b[0;34m)\u001b[0m\u001b[0;34m\u001b[0m\u001b[0;34m\u001b[0m\u001b[0m\n",
            "\u001b[0;32m/content/drive/MyDrive/Colab Notebooks/FasterRCNN_finetuned/coco_utils.py\u001b[0m in \u001b[0;36mget_coco_api_from_dataset\u001b[0;34m(dataset)\u001b[0m\n\u001b[1;32m    204\u001b[0m     \u001b[0;32mif\u001b[0m \u001b[0misinstance\u001b[0m\u001b[0;34m(\u001b[0m\u001b[0mdataset\u001b[0m\u001b[0;34m,\u001b[0m \u001b[0mtorchvision\u001b[0m\u001b[0;34m.\u001b[0m\u001b[0mdatasets\u001b[0m\u001b[0;34m.\u001b[0m\u001b[0mCocoDetection\u001b[0m\u001b[0;34m)\u001b[0m\u001b[0;34m:\u001b[0m\u001b[0;34m\u001b[0m\u001b[0;34m\u001b[0m\u001b[0m\n\u001b[1;32m    205\u001b[0m         \u001b[0;32mreturn\u001b[0m \u001b[0mdataset\u001b[0m\u001b[0;34m.\u001b[0m\u001b[0mcoco\u001b[0m\u001b[0;34m\u001b[0m\u001b[0;34m\u001b[0m\u001b[0m\n\u001b[0;32m--> 206\u001b[0;31m     \u001b[0;32mreturn\u001b[0m \u001b[0mconvert_to_coco_api\u001b[0m\u001b[0;34m(\u001b[0m\u001b[0mdataset\u001b[0m\u001b[0;34m)\u001b[0m\u001b[0;34m\u001b[0m\u001b[0;34m\u001b[0m\u001b[0m\n\u001b[0m\u001b[1;32m    207\u001b[0m \u001b[0;34m\u001b[0m\u001b[0m\n\u001b[1;32m    208\u001b[0m \u001b[0;34m\u001b[0m\u001b[0m\n",
            "\u001b[0;32m/content/drive/MyDrive/Colab Notebooks/FasterRCNN_finetuned/coco_utils.py\u001b[0m in \u001b[0;36mconvert_to_coco_api\u001b[0;34m(ds)\u001b[0m\n\u001b[1;32m    165\u001b[0m         \u001b[0mlabels\u001b[0m \u001b[0;34m=\u001b[0m \u001b[0mtargets\u001b[0m\u001b[0;34m[\u001b[0m\u001b[0;34m\"labels\"\u001b[0m\u001b[0;34m]\u001b[0m\u001b[0;34m.\u001b[0m\u001b[0mtolist\u001b[0m\u001b[0;34m(\u001b[0m\u001b[0;34m)\u001b[0m\u001b[0;34m\u001b[0m\u001b[0;34m\u001b[0m\u001b[0m\n\u001b[1;32m    166\u001b[0m         \u001b[0mareas\u001b[0m \u001b[0;34m=\u001b[0m \u001b[0mtargets\u001b[0m\u001b[0;34m[\u001b[0m\u001b[0;34m\"area\"\u001b[0m\u001b[0;34m]\u001b[0m\u001b[0;34m.\u001b[0m\u001b[0mtolist\u001b[0m\u001b[0;34m(\u001b[0m\u001b[0;34m)\u001b[0m\u001b[0;34m\u001b[0m\u001b[0;34m\u001b[0m\u001b[0m\n\u001b[0;32m--> 167\u001b[0;31m         \u001b[0miscrowd\u001b[0m \u001b[0;34m=\u001b[0m \u001b[0mtargets\u001b[0m\u001b[0;34m[\u001b[0m\u001b[0;34m\"iscrowd\"\u001b[0m\u001b[0;34m]\u001b[0m\u001b[0;34m.\u001b[0m\u001b[0mtolist\u001b[0m\u001b[0;34m(\u001b[0m\u001b[0;34m)\u001b[0m\u001b[0;34m\u001b[0m\u001b[0;34m\u001b[0m\u001b[0m\n\u001b[0m\u001b[1;32m    168\u001b[0m         \u001b[0;32mif\u001b[0m \u001b[0;34m\"masks\"\u001b[0m \u001b[0;32min\u001b[0m \u001b[0mtargets\u001b[0m\u001b[0;34m:\u001b[0m\u001b[0;34m\u001b[0m\u001b[0;34m\u001b[0m\u001b[0m\n\u001b[1;32m    169\u001b[0m             \u001b[0mmasks\u001b[0m \u001b[0;34m=\u001b[0m \u001b[0mtargets\u001b[0m\u001b[0;34m[\u001b[0m\u001b[0;34m\"masks\"\u001b[0m\u001b[0;34m]\u001b[0m\u001b[0;34m\u001b[0m\u001b[0;34m\u001b[0m\u001b[0m\n",
            "\u001b[0;31mKeyError\u001b[0m: 'iscrowd'"
          ]
        }
      ]
    },
    {
      "cell_type": "code",
      "source": [
        ""
      ],
      "metadata": {
        "id": "D8K3SuGITzM8"
      },
      "execution_count": null,
      "outputs": []
    }
  ]
}