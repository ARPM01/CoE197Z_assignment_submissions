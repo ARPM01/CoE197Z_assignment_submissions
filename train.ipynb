{
  "nbformat": 4,
  "nbformat_minor": 0,
  "metadata": {
    "colab": {
      "name": "train.ipynb",
      "provenance": [],
      "collapsed_sections": [],
      "include_colab_link": true
    },
    "kernelspec": {
      "name": "python3",
      "display_name": "Python 3"
    },
    "language_info": {
      "name": "python"
    }
  },
  "cells": [
    {
      "cell_type": "markdown",
      "metadata": {
        "id": "view-in-github",
        "colab_type": "text"
      },
      "source": [
        "<a href=\"https://colab.research.google.com/github/ARPM01/FasterRCNN_finetuned/blob/main/train.ipynb\" target=\"_parent\"><img src=\"https://colab.research.google.com/assets/colab-badge.svg\" alt=\"Open In Colab\"/></a>"
      ]
    },
    {
      "cell_type": "code",
      "execution_count": null,
      "metadata": {
        "id": "L_LLMs29L1MC",
        "colab": {
          "base_uri": "https://localhost:8080/"
        },
        "outputId": "64dbb931-aee3-458f-85fa-7f72c14c66eb"
      },
      "outputs": [
        {
          "output_type": "stream",
          "name": "stdout",
          "text": [
            "Collecting datasets\n",
            "  Downloading datasets-2.1.0-py3-none-any.whl (325 kB)\n",
            "\u001b[K     |████████████████████████████████| 325 kB 4.9 MB/s \n",
            "\u001b[?25hRequirement already satisfied: dill in /usr/local/lib/python3.7/dist-packages (from datasets) (0.3.4)\n",
            "Collecting huggingface-hub<1.0.0,>=0.1.0\n",
            "  Downloading huggingface_hub-0.5.1-py3-none-any.whl (77 kB)\n",
            "\u001b[K     |████████████████████████████████| 77 kB 7.0 MB/s \n",
            "\u001b[?25hCollecting responses<0.19\n",
            "  Downloading responses-0.18.0-py3-none-any.whl (38 kB)\n",
            "Requirement already satisfied: packaging in /usr/local/lib/python3.7/dist-packages (from datasets) (21.3)\n",
            "Requirement already satisfied: importlib-metadata in /usr/local/lib/python3.7/dist-packages (from datasets) (4.11.3)\n",
            "Collecting xxhash\n",
            "  Downloading xxhash-3.0.0-cp37-cp37m-manylinux_2_17_x86_64.manylinux2014_x86_64.whl (212 kB)\n",
            "\u001b[K     |████████████████████████████████| 212 kB 65.7 MB/s \n",
            "\u001b[?25hRequirement already satisfied: multiprocess in /usr/local/lib/python3.7/dist-packages (from datasets) (0.70.12.2)\n",
            "Collecting aiohttp\n",
            "  Downloading aiohttp-3.8.1-cp37-cp37m-manylinux_2_5_x86_64.manylinux1_x86_64.manylinux_2_12_x86_64.manylinux2010_x86_64.whl (1.1 MB)\n",
            "\u001b[K     |████████████████████████████████| 1.1 MB 62.1 MB/s \n",
            "\u001b[?25hRequirement already satisfied: pyarrow>=5.0.0 in /usr/local/lib/python3.7/dist-packages (from datasets) (6.0.1)\n",
            "Requirement already satisfied: pandas in /usr/local/lib/python3.7/dist-packages (from datasets) (1.3.5)\n",
            "Requirement already satisfied: tqdm>=4.62.1 in /usr/local/lib/python3.7/dist-packages (from datasets) (4.64.0)\n",
            "Requirement already satisfied: requests>=2.19.0 in /usr/local/lib/python3.7/dist-packages (from datasets) (2.23.0)\n",
            "Requirement already satisfied: numpy>=1.17 in /usr/local/lib/python3.7/dist-packages (from datasets) (1.21.6)\n",
            "Collecting fsspec[http]>=2021.05.0\n",
            "  Downloading fsspec-2022.3.0-py3-none-any.whl (136 kB)\n",
            "\u001b[K     |████████████████████████████████| 136 kB 72.5 MB/s \n",
            "\u001b[?25hRequirement already satisfied: typing-extensions>=3.7.4.3 in /usr/local/lib/python3.7/dist-packages (from huggingface-hub<1.0.0,>=0.1.0->datasets) (4.2.0)\n",
            "Requirement already satisfied: filelock in /usr/local/lib/python3.7/dist-packages (from huggingface-hub<1.0.0,>=0.1.0->datasets) (3.6.0)\n",
            "Requirement already satisfied: pyyaml in /usr/local/lib/python3.7/dist-packages (from huggingface-hub<1.0.0,>=0.1.0->datasets) (3.13)\n",
            "Requirement already satisfied: pyparsing!=3.0.5,>=2.0.2 in /usr/local/lib/python3.7/dist-packages (from packaging->datasets) (3.0.8)\n",
            "Requirement already satisfied: urllib3!=1.25.0,!=1.25.1,<1.26,>=1.21.1 in /usr/local/lib/python3.7/dist-packages (from requests>=2.19.0->datasets) (1.24.3)\n",
            "Requirement already satisfied: idna<3,>=2.5 in /usr/local/lib/python3.7/dist-packages (from requests>=2.19.0->datasets) (2.10)\n",
            "Requirement already satisfied: certifi>=2017.4.17 in /usr/local/lib/python3.7/dist-packages (from requests>=2.19.0->datasets) (2021.10.8)\n",
            "Requirement already satisfied: chardet<4,>=3.0.2 in /usr/local/lib/python3.7/dist-packages (from requests>=2.19.0->datasets) (3.0.4)\n",
            "Collecting urllib3!=1.25.0,!=1.25.1,<1.26,>=1.21.1\n",
            "  Downloading urllib3-1.25.11-py2.py3-none-any.whl (127 kB)\n",
            "\u001b[K     |████████████████████████████████| 127 kB 75.7 MB/s \n",
            "\u001b[?25hCollecting frozenlist>=1.1.1\n",
            "  Downloading frozenlist-1.3.0-cp37-cp37m-manylinux_2_5_x86_64.manylinux1_x86_64.manylinux_2_17_x86_64.manylinux2014_x86_64.whl (144 kB)\n",
            "\u001b[K     |████████████████████████████████| 144 kB 74.5 MB/s \n",
            "\u001b[?25hCollecting asynctest==0.13.0\n",
            "  Downloading asynctest-0.13.0-py3-none-any.whl (26 kB)\n",
            "Requirement already satisfied: attrs>=17.3.0 in /usr/local/lib/python3.7/dist-packages (from aiohttp->datasets) (21.4.0)\n",
            "Collecting yarl<2.0,>=1.0\n",
            "  Downloading yarl-1.7.2-cp37-cp37m-manylinux_2_5_x86_64.manylinux1_x86_64.manylinux_2_12_x86_64.manylinux2010_x86_64.whl (271 kB)\n",
            "\u001b[K     |████████████████████████████████| 271 kB 70.5 MB/s \n",
            "\u001b[?25hCollecting multidict<7.0,>=4.5\n",
            "  Downloading multidict-6.0.2-cp37-cp37m-manylinux_2_17_x86_64.manylinux2014_x86_64.whl (94 kB)\n",
            "\u001b[K     |████████████████████████████████| 94 kB 4.7 MB/s \n",
            "\u001b[?25hCollecting async-timeout<5.0,>=4.0.0a3\n",
            "  Downloading async_timeout-4.0.2-py3-none-any.whl (5.8 kB)\n",
            "Collecting aiosignal>=1.1.2\n",
            "  Downloading aiosignal-1.2.0-py3-none-any.whl (8.2 kB)\n",
            "Requirement already satisfied: charset-normalizer<3.0,>=2.0 in /usr/local/lib/python3.7/dist-packages (from aiohttp->datasets) (2.0.12)\n",
            "Requirement already satisfied: zipp>=0.5 in /usr/local/lib/python3.7/dist-packages (from importlib-metadata->datasets) (3.8.0)\n",
            "Requirement already satisfied: python-dateutil>=2.7.3 in /usr/local/lib/python3.7/dist-packages (from pandas->datasets) (2.8.2)\n",
            "Requirement already satisfied: pytz>=2017.3 in /usr/local/lib/python3.7/dist-packages (from pandas->datasets) (2022.1)\n",
            "Requirement already satisfied: six>=1.5 in /usr/local/lib/python3.7/dist-packages (from python-dateutil>=2.7.3->pandas->datasets) (1.15.0)\n",
            "Installing collected packages: multidict, frozenlist, yarl, urllib3, asynctest, async-timeout, aiosignal, fsspec, aiohttp, xxhash, responses, huggingface-hub, datasets\n",
            "  Attempting uninstall: urllib3\n",
            "    Found existing installation: urllib3 1.24.3\n",
            "    Uninstalling urllib3-1.24.3:\n",
            "      Successfully uninstalled urllib3-1.24.3\n",
            "\u001b[31mERROR: pip's dependency resolver does not currently take into account all the packages that are installed. This behaviour is the source of the following dependency conflicts.\n",
            "datascience 0.10.6 requires folium==0.2.1, but you have folium 0.8.3 which is incompatible.\u001b[0m\n",
            "Successfully installed aiohttp-3.8.1 aiosignal-1.2.0 async-timeout-4.0.2 asynctest-0.13.0 datasets-2.1.0 frozenlist-1.3.0 fsspec-2022.3.0 huggingface-hub-0.5.1 multidict-6.0.2 responses-0.18.0 urllib3-1.25.11 xxhash-3.0.0 yarl-1.7.2\n",
            "Requirement already satisfied: matplotlib in /usr/local/lib/python3.7/dist-packages (3.2.2)\n",
            "Requirement already satisfied: kiwisolver>=1.0.1 in /usr/local/lib/python3.7/dist-packages (from matplotlib) (1.4.2)\n",
            "Requirement already satisfied: numpy>=1.11 in /usr/local/lib/python3.7/dist-packages (from matplotlib) (1.21.6)\n",
            "Requirement already satisfied: python-dateutil>=2.1 in /usr/local/lib/python3.7/dist-packages (from matplotlib) (2.8.2)\n",
            "Requirement already satisfied: pyparsing!=2.0.4,!=2.1.2,!=2.1.6,>=2.0.1 in /usr/local/lib/python3.7/dist-packages (from matplotlib) (3.0.8)\n",
            "Requirement already satisfied: cycler>=0.10 in /usr/local/lib/python3.7/dist-packages (from matplotlib) (0.11.0)\n",
            "Requirement already satisfied: typing-extensions in /usr/local/lib/python3.7/dist-packages (from kiwisolver>=1.0.1->matplotlib) (4.2.0)\n",
            "Requirement already satisfied: six>=1.5 in /usr/local/lib/python3.7/dist-packages (from python-dateutil>=2.1->matplotlib) (1.15.0)\n",
            "Requirement already satisfied: numpy in /usr/local/lib/python3.7/dist-packages (1.21.6)\n",
            "Requirement already satisfied: torch in /usr/local/lib/python3.7/dist-packages (1.11.0+cu113)\n",
            "Requirement already satisfied: typing-extensions in /usr/local/lib/python3.7/dist-packages (from torch) (4.2.0)\n",
            "Requirement already satisfied: tqdm in /usr/local/lib/python3.7/dist-packages (4.64.0)\n",
            "Requirement already satisfied: torchvision in /usr/local/lib/python3.7/dist-packages (0.12.0+cu113)\n",
            "Requirement already satisfied: torch==1.11.0 in /usr/local/lib/python3.7/dist-packages (from torchvision) (1.11.0+cu113)\n",
            "Requirement already satisfied: pillow!=8.3.*,>=5.3.0 in /usr/local/lib/python3.7/dist-packages (from torchvision) (7.1.2)\n",
            "Requirement already satisfied: numpy in /usr/local/lib/python3.7/dist-packages (from torchvision) (1.21.6)\n",
            "Requirement already satisfied: typing-extensions in /usr/local/lib/python3.7/dist-packages (from torchvision) (4.2.0)\n",
            "Requirement already satisfied: requests in /usr/local/lib/python3.7/dist-packages (from torchvision) (2.23.0)\n",
            "Requirement already satisfied: urllib3!=1.25.0,!=1.25.1,<1.26,>=1.21.1 in /usr/local/lib/python3.7/dist-packages (from requests->torchvision) (1.25.11)\n",
            "Requirement already satisfied: idna<3,>=2.5 in /usr/local/lib/python3.7/dist-packages (from requests->torchvision) (2.10)\n",
            "Requirement already satisfied: chardet<4,>=3.0.2 in /usr/local/lib/python3.7/dist-packages (from requests->torchvision) (3.0.4)\n",
            "Requirement already satisfied: certifi>=2017.4.17 in /usr/local/lib/python3.7/dist-packages (from requests->torchvision) (2021.10.8)\n",
            "Collecting wandb\n",
            "  Downloading wandb-0.12.15-py2.py3-none-any.whl (1.8 MB)\n",
            "\u001b[K     |████████████████████████████████| 1.8 MB 5.1 MB/s \n",
            "\u001b[?25hCollecting docker-pycreds>=0.4.0\n",
            "  Downloading docker_pycreds-0.4.0-py2.py3-none-any.whl (9.0 kB)\n",
            "Collecting pathtools\n",
            "  Downloading pathtools-0.1.2.tar.gz (11 kB)\n",
            "Requirement already satisfied: psutil>=5.0.0 in /usr/local/lib/python3.7/dist-packages (from wandb) (5.4.8)\n",
            "Requirement already satisfied: six>=1.13.0 in /usr/local/lib/python3.7/dist-packages (from wandb) (1.15.0)\n",
            "Requirement already satisfied: requests<3,>=2.0.0 in /usr/local/lib/python3.7/dist-packages (from wandb) (2.23.0)\n",
            "Requirement already satisfied: protobuf>=3.12.0 in /usr/local/lib/python3.7/dist-packages (from wandb) (3.17.3)\n",
            "Requirement already satisfied: PyYAML in /usr/local/lib/python3.7/dist-packages (from wandb) (3.13)\n",
            "Requirement already satisfied: promise<3,>=2.0 in /usr/local/lib/python3.7/dist-packages (from wandb) (2.3)\n",
            "Requirement already satisfied: Click!=8.0.0,>=7.0 in /usr/local/lib/python3.7/dist-packages (from wandb) (7.1.2)\n",
            "Collecting shortuuid>=0.5.0\n",
            "  Downloading shortuuid-1.0.8-py3-none-any.whl (9.5 kB)\n",
            "Collecting setproctitle\n",
            "  Downloading setproctitle-1.2.3-cp37-cp37m-manylinux_2_5_x86_64.manylinux1_x86_64.manylinux_2_17_x86_64.manylinux2014_x86_64.whl (29 kB)\n",
            "Requirement already satisfied: python-dateutil>=2.6.1 in /usr/local/lib/python3.7/dist-packages (from wandb) (2.8.2)\n",
            "Collecting sentry-sdk>=1.0.0\n",
            "  Downloading sentry_sdk-1.5.10-py2.py3-none-any.whl (144 kB)\n",
            "\u001b[K     |████████████████████████████████| 144 kB 65.9 MB/s \n",
            "\u001b[?25hCollecting GitPython>=1.0.0\n",
            "  Downloading GitPython-3.1.27-py3-none-any.whl (181 kB)\n",
            "\u001b[K     |████████████████████████████████| 181 kB 67.1 MB/s \n",
            "\u001b[?25hCollecting gitdb<5,>=4.0.1\n",
            "  Downloading gitdb-4.0.9-py3-none-any.whl (63 kB)\n",
            "\u001b[K     |████████████████████████████████| 63 kB 2.4 MB/s \n",
            "\u001b[?25hRequirement already satisfied: typing-extensions>=3.7.4.3 in /usr/local/lib/python3.7/dist-packages (from GitPython>=1.0.0->wandb) (4.2.0)\n",
            "Collecting smmap<6,>=3.0.1\n",
            "  Downloading smmap-5.0.0-py3-none-any.whl (24 kB)\n",
            "Requirement already satisfied: certifi>=2017.4.17 in /usr/local/lib/python3.7/dist-packages (from requests<3,>=2.0.0->wandb) (2021.10.8)\n",
            "Requirement already satisfied: urllib3!=1.25.0,!=1.25.1,<1.26,>=1.21.1 in /usr/local/lib/python3.7/dist-packages (from requests<3,>=2.0.0->wandb) (1.25.11)\n",
            "Requirement already satisfied: idna<3,>=2.5 in /usr/local/lib/python3.7/dist-packages (from requests<3,>=2.0.0->wandb) (2.10)\n",
            "Requirement already satisfied: chardet<4,>=3.0.2 in /usr/local/lib/python3.7/dist-packages (from requests<3,>=2.0.0->wandb) (3.0.4)\n",
            "Building wheels for collected packages: pathtools\n",
            "  Building wheel for pathtools (setup.py) ... \u001b[?25l\u001b[?25hdone\n",
            "  Created wheel for pathtools: filename=pathtools-0.1.2-py3-none-any.whl size=8806 sha256=20de0a6155157dc387ef464c511fcd3d57b1300562904d9038340888f2ad1dbf\n",
            "  Stored in directory: /root/.cache/pip/wheels/3e/31/09/fa59cef12cdcfecc627b3d24273699f390e71828921b2cbba2\n",
            "Successfully built pathtools\n",
            "Installing collected packages: smmap, gitdb, shortuuid, setproctitle, sentry-sdk, pathtools, GitPython, docker-pycreds, wandb\n",
            "Successfully installed GitPython-3.1.27 docker-pycreds-0.4.0 gitdb-4.0.9 pathtools-0.1.2 sentry-sdk-1.5.10 setproctitle-1.2.3 shortuuid-1.0.8 smmap-5.0.0 wandb-0.12.15\n",
            "Requirement already satisfied: cython in /usr/local/lib/python3.7/dist-packages (0.29.28)\n",
            "Requirement already satisfied: pycocotools in /usr/local/lib/python3.7/dist-packages (2.0.4)\n",
            "Requirement already satisfied: matplotlib>=2.1.0 in /usr/local/lib/python3.7/dist-packages (from pycocotools) (3.2.2)\n",
            "Requirement already satisfied: numpy in /usr/local/lib/python3.7/dist-packages (from pycocotools) (1.21.6)\n",
            "Requirement already satisfied: cycler>=0.10 in /usr/local/lib/python3.7/dist-packages (from matplotlib>=2.1.0->pycocotools) (0.11.0)\n",
            "Requirement already satisfied: pyparsing!=2.0.4,!=2.1.2,!=2.1.6,>=2.0.1 in /usr/local/lib/python3.7/dist-packages (from matplotlib>=2.1.0->pycocotools) (3.0.8)\n",
            "Requirement already satisfied: python-dateutil>=2.1 in /usr/local/lib/python3.7/dist-packages (from matplotlib>=2.1.0->pycocotools) (2.8.2)\n",
            "Requirement already satisfied: kiwisolver>=1.0.1 in /usr/local/lib/python3.7/dist-packages (from matplotlib>=2.1.0->pycocotools) (1.4.2)\n",
            "Requirement already satisfied: typing-extensions in /usr/local/lib/python3.7/dist-packages (from kiwisolver>=1.0.1->matplotlib>=2.1.0->pycocotools) (4.2.0)\n",
            "Requirement already satisfied: six>=1.5 in /usr/local/lib/python3.7/dist-packages (from python-dateutil>=2.1->matplotlib>=2.1.0->pycocotools) (1.15.0)\n",
            "Requirement already satisfied: matplotlib in /usr/local/lib/python3.7/dist-packages (3.2.2)\n",
            "Requirement already satisfied: numpy>=1.11 in /usr/local/lib/python3.7/dist-packages (from matplotlib) (1.21.6)\n",
            "Requirement already satisfied: python-dateutil>=2.1 in /usr/local/lib/python3.7/dist-packages (from matplotlib) (2.8.2)\n",
            "Requirement already satisfied: kiwisolver>=1.0.1 in /usr/local/lib/python3.7/dist-packages (from matplotlib) (1.4.2)\n",
            "Requirement already satisfied: cycler>=0.10 in /usr/local/lib/python3.7/dist-packages (from matplotlib) (0.11.0)\n",
            "Requirement already satisfied: pyparsing!=2.0.4,!=2.1.2,!=2.1.6,>=2.0.1 in /usr/local/lib/python3.7/dist-packages (from matplotlib) (3.0.8)\n",
            "Requirement already satisfied: typing-extensions in /usr/local/lib/python3.7/dist-packages (from kiwisolver>=1.0.1->matplotlib) (4.2.0)\n",
            "Requirement already satisfied: six>=1.5 in /usr/local/lib/python3.7/dist-packages (from python-dateutil>=2.1->matplotlib) (1.15.0)\n"
          ]
        }
      ],
      "source": [
        "!pip install datasets\n",
        "!pip install matplotlib\n",
        "!pip install numpy\n",
        "!pip install torch\n",
        "!pip install tqdm\n",
        "!pip install torchvision\n",
        "!pip install wandb\n",
        "!pip install cython\n",
        "!pip install pycocotools\n",
        "!pip install matplotlib"
      ]
    },
    {
      "cell_type": "code",
      "source": [
        "from google.colab import drive\n",
        "drive.mount('/content/drive')"
      ],
      "metadata": {
        "colab": {
          "base_uri": "https://localhost:8080/"
        },
        "id": "rc9LUKXUL-e4",
        "outputId": "2ee64068-bac8-4e89-8028-f6373ca1bcea"
      },
      "execution_count": null,
      "outputs": [
        {
          "output_type": "stream",
          "name": "stdout",
          "text": [
            "Mounted at /content/drive\n"
          ]
        }
      ]
    },
    {
      "cell_type": "code",
      "source": [
        "cd /content/drive/MyDrive/Colab Notebooks/197_Assignment_2"
      ],
      "metadata": {
        "colab": {
          "base_uri": "https://localhost:8080/"
        },
        "id": "CfUVMq-HMvQq",
        "outputId": "a881e9c0-f284-4f80-f7ed-4e6b5b7cf4ff"
      },
      "execution_count": null,
      "outputs": [
        {
          "output_type": "stream",
          "name": "stdout",
          "text": [
            "/content/drive/MyDrive/Colab Notebooks/197_Assignment_2\n"
          ]
        }
      ]
    },
    {
      "cell_type": "code",
      "source": [
        "ls"
      ],
      "metadata": {
        "colab": {
          "base_uri": "https://localhost:8080/"
        },
        "id": "9twUELoFme4a",
        "outputId": "cc3cfbda-5fad-42ce-aadd-a7e3df320f1d"
      },
      "execution_count": null,
      "outputs": [
        {
          "output_type": "stream",
          "name": "stdout",
          "text": [
            "coco_eval.py   config.py  engine.py       \u001b[0m\u001b[01;34mmodel\u001b[0m/        train.ipynb    utils.py\n",
            "coco_utils.py  \u001b[01;34mdrinks\u001b[0m/    label_utils.py  \u001b[01;34m__pycache__\u001b[0m/  transforms.py  \u001b[01;34mwandb\u001b[0m/\n"
          ]
        }
      ]
    },
    {
      "cell_type": "code",
      "source": [
        "import torch\n",
        "import numpy as np\n",
        "import wandb\n",
        "import torchvision\n",
        "import os\n",
        "\n",
        "import label_utils\n",
        "import utils\n",
        "import transforms as T\n",
        "\n",
        "from torch.utils.data import DataLoader\n",
        "from torchvision import transforms\n",
        "from PIL import Image\n",
        "\n",
        "from engine import train_one_epoch, evaluate\n",
        "from torchvision.models.detection.faster_rcnn import FastRCNNPredictor\n",
        "\n",
        "if torch.cuda.is_available():\n",
        "    torch.set_default_tensor_type('torch.cuda.FloatTensor')"
      ],
      "metadata": {
        "id": "RilQIK7tNus8"
      },
      "execution_count": null,
      "outputs": []
    },
    {
      "cell_type": "code",
      "source": [
        "#wandb.login()\n",
        "config = {\n",
        "    \"num_workers\": 0,\n",
        "    \"pin_memory\": False,\n",
        "    \"batch_size\": 8,\n",
        "    \"dataset\": \"drinks\",\n",
        "    \"train_split\": \"drinks/labels_train.csv\",\n",
        "    \"test_split\": \"drinks/labels_test.csv\",}\n",
        "#run = wandb.init(project=\"197_Assignment_2\", entity=\"arpm\", config=config)"
      ],
      "metadata": {
        "id": "Remj-y1vsIph"
      },
      "execution_count": null,
      "outputs": []
    },
    {
      "cell_type": "code",
      "source": [
        "test_dict, test_classes = label_utils.build_label_dictionary(\n",
        "    config['test_split'])\n",
        "train_dict, train_classes = label_utils.build_label_dictionary(\n",
        "    config['train_split'])\n",
        "\n",
        "class ImageDataset(torch.utils.data.Dataset):\n",
        "    def __init__(self, root, dictionary, transform=None):\n",
        "        self.dictionary = dictionary\n",
        "        self.root = root\n",
        "        self.transform = transform\n",
        "        self.imgs = list(os.listdir(os.path.join(root, \"drinks\")))\n",
        "    def __len__(self):\n",
        "        return len(self.dictionary)\n",
        "\n",
        "    def __getitem__(self, idx):\n",
        "\n",
        "        key = list(self.dictionary.keys())[idx]\n",
        "        img = Image.open(key)\n",
        "        \n",
        "        num_objs = len(self.dictionary[key])\n",
        "\n",
        "        b_temp = self.dictionary[key]\n",
        "        b_temp2 = [[j[i] for i in range(4)] for j in b_temp]  #remove class from value\n",
        "        boxes = [[i[0], i[2], i[1], i[3]] for i in b_temp2] #in [xmin, ymin, xmax, ymax]\n",
        "\n",
        "        boxes = torch.as_tensor(boxes, dtype=torch.float32)\n",
        "        labels = torch.tensor([i[4] for i in b_temp], dtype=torch.int64)\n",
        "        image_id = torch.tensor([idx])\n",
        "        area = (boxes[:, 3] - boxes[:, 1]) * (boxes[:, 2] - boxes[:, 0])\n",
        "        iscrowd = torch.zeros((boxes.shape[0],), dtype=torch.int64)\n",
        "\n",
        "        target = {}\n",
        "        target[\"boxes\"] = boxes\n",
        "        target[\"labels\"] = labels\n",
        "        target[\"image_id\"] = image_id\n",
        "        target[\"area\"] = area\n",
        "        target['iscrowd'] = iscrowd\n",
        "        #target[\"masks\"] = torch.zeros(3,480,640)\n",
        "\n",
        "        if self.transform:\n",
        "            img = self.transform(img)\n",
        "\n",
        "        return img, target\n",
        "\n",
        "train_split = ImageDataset(\"\", train_dict, transforms.ToTensor())\n",
        "test_split = ImageDataset(\"\", test_dict, transforms.ToTensor())\n",
        "\n",
        "print(\"Train split len:\", len(train_split), train_split)\n",
        "print(\"Test split len:\", len(test_split), test_split)\n",
        "\n",
        "train_loader = DataLoader(train_split,\n",
        "                          batch_size=config['batch_size'],\n",
        "                          shuffle=False,\n",
        "                          num_workers=config['num_workers'],\n",
        "                          pin_memory=config['pin_memory'],\n",
        "                          collate_fn=utils.collate_fn)\n",
        "\n",
        "test_loader = DataLoader(test_split,\n",
        "                         batch_size=config['batch_size'],\n",
        "                         shuffle=False,\n",
        "                         num_workers=config['num_workers'],\n",
        "                         pin_memory=config['pin_memory'],\n",
        "                         collate_fn=utils.collate_fn)"
      ],
      "metadata": {
        "id": "DTE_pD_bjSUe",
        "colab": {
          "base_uri": "https://localhost:8080/"
        },
        "outputId": "02a46b4b-e228-40a3-976e-7c3fd2efb582"
      },
      "execution_count": null,
      "outputs": [
        {
          "output_type": "stream",
          "name": "stdout",
          "text": [
            "Train split len: 996 <__main__.ImageDataset object at 0x7f5c0aff6090>\n",
            "Test split len: 51 <__main__.ImageDataset object at 0x7f5c0afe37d0>\n"
          ]
        }
      ]
    },
    {
      "cell_type": "code",
      "source": [
        "def create_model(num_classes):\n",
        "    model = torchvision.models.detection.fasterrcnn_resnet50_fpn(pretrained=True)\n",
        "    in_features = model.roi_heads.box_predictor.cls_score.in_features\n",
        "    model.roi_heads.box_predictor = FastRCNNPredictor(in_features, num_classes) \n",
        "    return model"
      ],
      "metadata": {
        "id": "8HfqXeUzKrJ-"
      },
      "execution_count": null,
      "outputs": []
    },
    {
      "cell_type": "code",
      "source": [
        "device = torch.device('cuda') if torch.cuda.is_available() else torch.device('cpu')\n",
        "model = create_model(4)\n",
        "model.to(device)\n",
        "params = [p for p in model.parameters() if p.requires_grad]\n",
        "optimizer = torch.optim.SGD(params, lr=0.005, momentum=0.9, weight_decay=0.0005)\n",
        "lr_scheduler = torch.optim.lr_scheduler.StepLR(optimizer, step_size=3, gamma=0.1)\n",
        "num_epochs = 2"
      ],
      "metadata": {
        "id": "yR9oM3vcSRdd"
      },
      "execution_count": null,
      "outputs": []
    },
    {
      "cell_type": "code",
      "source": [
        "evaluate(model, test_loader, device=device)"
      ],
      "metadata": {
        "colab": {
          "base_uri": "https://localhost:8080/"
        },
        "id": "QsE80XIKSWzs",
        "outputId": "b3668c2b-1b8e-42a1-8d55-83bc2c1eebd5"
      },
      "execution_count": null,
      "outputs": [
        {
          "output_type": "stream",
          "name": "stdout",
          "text": [
            "creating index...\n",
            "index created!\n",
            "Test:  [0/7]  eta: 0:00:09  model_time: 1.2853 (1.2853)  evaluator_time: 0.0479 (0.0479)  time: 1.4210  data: 0.0805  max mem: 6753\n",
            "Test:  [6/7]  eta: 0:00:00  model_time: 0.8226 (0.8127)  evaluator_time: 0.0428 (0.0416)  time: 0.9322  data: 0.0714  max mem: 6753\n",
            "Test: Total time: 0:00:06 (0.9334 s / it)\n",
            "Averaged stats: model_time: 0.8226 (0.8127)  evaluator_time: 0.0428 (0.0416)\n",
            "Accumulating evaluation results...\n",
            "DONE (t=0.05s).\n",
            "IoU metric: bbox\n",
            " Average Precision  (AP) @[ IoU=0.50:0.95 | area=   all | maxDets=100 ] = 0.000\n",
            " Average Precision  (AP) @[ IoU=0.50      | area=   all | maxDets=100 ] = 0.002\n",
            " Average Precision  (AP) @[ IoU=0.75      | area=   all | maxDets=100 ] = 0.000\n",
            " Average Precision  (AP) @[ IoU=0.50:0.95 | area= small | maxDets=100 ] = -1.000\n",
            " Average Precision  (AP) @[ IoU=0.50:0.95 | area=medium | maxDets=100 ] = 0.000\n",
            " Average Precision  (AP) @[ IoU=0.50:0.95 | area= large | maxDets=100 ] = 0.001\n",
            " Average Recall     (AR) @[ IoU=0.50:0.95 | area=   all | maxDets=  1 ] = 0.000\n",
            " Average Recall     (AR) @[ IoU=0.50:0.95 | area=   all | maxDets= 10 ] = 0.002\n",
            " Average Recall     (AR) @[ IoU=0.50:0.95 | area=   all | maxDets=100 ] = 0.054\n",
            " Average Recall     (AR) @[ IoU=0.50:0.95 | area= small | maxDets=100 ] = -1.000\n",
            " Average Recall     (AR) @[ IoU=0.50:0.95 | area=medium | maxDets=100 ] = 0.175\n",
            " Average Recall     (AR) @[ IoU=0.50:0.95 | area= large | maxDets=100 ] = 0.048\n"
          ]
        },
        {
          "output_type": "execute_result",
          "data": {
            "text/plain": [
              "<coco_eval.CocoEvaluator at 0x7f5c0af807d0>"
            ]
          },
          "metadata": {},
          "execution_count": 19
        }
      ]
    },
    {
      "cell_type": "code",
      "source": [
        "for epoch in range(num_epochs):\n",
        "  train_one_epoch(model, optimizer, train_loader, device, epoch, print_freq=5)\n",
        "  lr_scheduler.step()\n",
        "  evaluate(model, test_loader, device=device)\n",
        "\n",
        "wandb.finish()\n",
        "print(\"Saving the trained model\")\n",
        "torch.save(model.state_dict(), 'model_weights.pth')"
      ],
      "metadata": {
        "id": "lnsx_SoXq6ba",
        "colab": {
          "base_uri": "https://localhost:8080/"
        },
        "outputId": "47f27fe2-d921-4204-d4f4-6634eab6020f"
      },
      "execution_count": null,
      "outputs": [
        {
          "output_type": "stream",
          "name": "stdout",
          "text": [
            "Epoch: [0]  [  0/125]  eta: 0:04:34  lr: 0.000045  loss: 1.6807 (1.6807)  loss_classifier: 1.3549 (1.3549)  loss_box_reg: 0.3028 (0.3028)  loss_objectness: 0.0150 (0.0150)  loss_rpn_box_reg: 0.0079 (0.0079)  time: 2.1980  data: 0.0907  max mem: 9432\n",
            "Epoch: [0]  [  5/125]  eta: 0:04:16  lr: 0.000247  loss: 1.6688 (1.6269)  loss_classifier: 1.3014 (1.2823)  loss_box_reg: 0.3043 (0.3237)  loss_objectness: 0.0148 (0.0156)  loss_rpn_box_reg: 0.0050 (0.0053)  time: 2.1385  data: 0.0878  max mem: 9750\n",
            "Epoch: [0]  [ 10/125]  eta: 0:04:06  lr: 0.000448  loss: 1.4422 (1.3391)  loss_classifier: 1.1280 (0.9928)  loss_box_reg: 0.3295 (0.3258)  loss_objectness: 0.0150 (0.0151)  loss_rpn_box_reg: 0.0054 (0.0054)  time: 2.1399  data: 0.0873  max mem: 9750\n",
            "Epoch: [0]  [ 15/125]  eta: 0:03:55  lr: 0.000650  loss: 0.9796 (1.1326)  loss_classifier: 0.6373 (0.7900)  loss_box_reg: 0.3286 (0.3241)  loss_objectness: 0.0125 (0.0132)  loss_rpn_box_reg: 0.0053 (0.0054)  time: 2.1443  data: 0.0863  max mem: 10180\n",
            "Epoch: [0]  [ 20/125]  eta: 0:03:45  lr: 0.000851  loss: 0.8308 (1.0666)  loss_classifier: 0.4779 (0.7148)  loss_box_reg: 0.3388 (0.3353)  loss_objectness: 0.0120 (0.0117)  loss_rpn_box_reg: 0.0049 (0.0048)  time: 2.1455  data: 0.0845  max mem: 10180\n",
            "Epoch: [0]  [ 25/125]  eta: 0:03:35  lr: 0.001052  loss: 0.7668 (0.9900)  loss_classifier: 0.3985 (0.6381)  loss_box_reg: 0.3375 (0.3364)  loss_objectness: 0.0086 (0.0109)  loss_rpn_box_reg: 0.0042 (0.0046)  time: 2.1608  data: 0.0841  max mem: 10180\n",
            "Epoch: [0]  [ 30/125]  eta: 0:03:25  lr: 0.001254  loss: 0.6697 (0.9280)  loss_classifier: 0.3165 (0.5727)  loss_box_reg: 0.3467 (0.3377)  loss_objectness: 0.0081 (0.0108)  loss_rpn_box_reg: 0.0041 (0.0068)  time: 2.1753  data: 0.0834  max mem: 10180\n",
            "Epoch: [0]  [ 35/125]  eta: 0:03:15  lr: 0.001455  loss: 0.6157 (0.8721)  loss_classifier: 0.2435 (0.5243)  loss_box_reg: 0.3375 (0.3282)  loss_objectness: 0.0088 (0.0126)  loss_rpn_box_reg: 0.0042 (0.0070)  time: 2.1914  data: 0.0838  max mem: 10180\n",
            "Epoch: [0]  [ 40/125]  eta: 0:03:05  lr: 0.001657  loss: 0.5796 (0.8317)  loss_classifier: 0.2292 (0.4856)  loss_box_reg: 0.3171 (0.3247)  loss_objectness: 0.0128 (0.0146)  loss_rpn_box_reg: 0.0048 (0.0067)  time: 2.2071  data: 0.0847  max mem: 10180\n",
            "Epoch: [0]  [ 45/125]  eta: 0:02:54  lr: 0.001858  loss: 0.5521 (0.8013)  loss_classifier: 0.2246 (0.4552)  loss_box_reg: 0.3038 (0.3252)  loss_objectness: 0.0140 (0.0143)  loss_rpn_box_reg: 0.0052 (0.0066)  time: 2.2189  data: 0.0843  max mem: 10180\n",
            "Epoch: [0]  [ 50/125]  eta: 0:02:44  lr: 0.002059  loss: 0.5364 (0.7749)  loss_classifier: 0.2125 (0.4314)  loss_box_reg: 0.2953 (0.3237)  loss_objectness: 0.0128 (0.0135)  loss_rpn_box_reg: 0.0048 (0.0063)  time: 2.2286  data: 0.0840  max mem: 10180\n",
            "Epoch: [0]  [ 55/125]  eta: 0:02:33  lr: 0.002261  loss: 0.5357 (0.7501)  loss_classifier: 0.1975 (0.4093)  loss_box_reg: 0.3042 (0.3223)  loss_objectness: 0.0070 (0.0125)  loss_rpn_box_reg: 0.0037 (0.0060)  time: 2.2373  data: 0.0831  max mem: 10180\n",
            "Epoch: [0]  [ 60/125]  eta: 0:02:22  lr: 0.002462  loss: 0.4908 (0.7215)  loss_classifier: 0.1900 (0.3886)  loss_box_reg: 0.2886 (0.3147)  loss_objectness: 0.0046 (0.0123)  loss_rpn_box_reg: 0.0038 (0.0059)  time: 2.2450  data: 0.0815  max mem: 10180\n",
            "Epoch: [0]  [ 65/125]  eta: 0:02:12  lr: 0.002664  loss: 0.4404 (0.6950)  loss_classifier: 0.1769 (0.3709)  loss_box_reg: 0.2562 (0.3064)  loss_objectness: 0.0045 (0.0119)  loss_rpn_box_reg: 0.0038 (0.0058)  time: 2.2530  data: 0.0809  max mem: 10180\n",
            "Epoch: [0]  [ 70/125]  eta: 0:02:01  lr: 0.002865  loss: 0.4001 (0.6791)  loss_classifier: 0.1627 (0.3614)  loss_box_reg: 0.2211 (0.2996)  loss_objectness: 0.0045 (0.0121)  loss_rpn_box_reg: 0.0041 (0.0059)  time: 2.2613  data: 0.0806  max mem: 10180\n",
            "Epoch: [0]  [ 75/125]  eta: 0:01:50  lr: 0.003066  loss: 0.4001 (0.6706)  loss_classifier: 0.1627 (0.3544)  loss_box_reg: 0.2211 (0.2979)  loss_objectness: 0.0077 (0.0122)  loss_rpn_box_reg: 0.0058 (0.0060)  time: 2.2652  data: 0.0801  max mem: 10180\n",
            "Epoch: [0]  [ 80/125]  eta: 0:01:39  lr: 0.003268  loss: 0.4001 (0.6552)  loss_classifier: 0.1796 (0.3438)  loss_box_reg: 0.2000 (0.2917)  loss_objectness: 0.0093 (0.0135)  loss_rpn_box_reg: 0.0060 (0.0062)  time: 2.2694  data: 0.0806  max mem: 10180\n",
            "Epoch: [0]  [ 85/125]  eta: 0:01:28  lr: 0.003469  loss: 0.4136 (0.6409)  loss_classifier: 0.1860 (0.3347)  loss_box_reg: 0.2000 (0.2866)  loss_objectness: 0.0104 (0.0134)  loss_rpn_box_reg: 0.0067 (0.0063)  time: 2.2708  data: 0.0797  max mem: 10180\n",
            "Epoch: [0]  [ 90/125]  eta: 0:01:17  lr: 0.003671  loss: 0.4578 (0.6329)  loss_classifier: 0.1872 (0.3283)  loss_box_reg: 0.2212 (0.2846)  loss_objectness: 0.0104 (0.0135)  loss_rpn_box_reg: 0.0078 (0.0066)  time: 2.2800  data: 0.0816  max mem: 10180\n",
            "Epoch: [0]  [ 95/125]  eta: 0:01:06  lr: 0.003872  loss: 0.4043 (0.6177)  loss_classifier: 0.1842 (0.3192)  loss_box_reg: 0.2000 (0.2787)  loss_objectness: 0.0104 (0.0132)  loss_rpn_box_reg: 0.0080 (0.0066)  time: 2.2830  data: 0.0811  max mem: 10180\n",
            "Epoch: [0]  [100/125]  eta: 0:00:55  lr: 0.004074  loss: 0.3961 (0.6036)  loss_classifier: 0.1729 (0.3103)  loss_box_reg: 0.1982 (0.2740)  loss_objectness: 0.0076 (0.0127)  loss_rpn_box_reg: 0.0080 (0.0066)  time: 2.2978  data: 0.0906  max mem: 10180\n",
            "Epoch: [0]  [105/125]  eta: 0:00:44  lr: 0.004275  loss: 0.3313 (0.5893)  loss_classifier: 0.1493 (0.3019)  loss_box_reg: 0.1735 (0.2687)  loss_objectness: 0.0043 (0.0122)  loss_rpn_box_reg: 0.0080 (0.0066)  time: 2.3040  data: 0.0917  max mem: 10180\n",
            "Epoch: [0]  [110/125]  eta: 0:00:33  lr: 0.004476  loss: 0.3100 (0.5740)  loss_classifier: 0.1444 (0.2938)  loss_box_reg: 0.1617 (0.2619)  loss_objectness: 0.0037 (0.0119)  loss_rpn_box_reg: 0.0050 (0.0064)  time: 2.3028  data: 0.0896  max mem: 10180\n",
            "Epoch: [0]  [115/125]  eta: 0:00:22  lr: 0.004678  loss: 0.2888 (0.5597)  loss_classifier: 0.1191 (0.2858)  loss_box_reg: 0.1422 (0.2559)  loss_objectness: 0.0036 (0.0116)  loss_rpn_box_reg: 0.0046 (0.0064)  time: 2.3079  data: 0.0907  max mem: 10180\n",
            "Epoch: [0]  [120/125]  eta: 0:00:11  lr: 0.004879  loss: 0.2544 (0.5450)  loss_classifier: 0.1147 (0.2775)  loss_box_reg: 0.1293 (0.2499)  loss_objectness: 0.0036 (0.0112)  loss_rpn_box_reg: 0.0042 (0.0063)  time: 2.3029  data: 0.0816  max mem: 10180\n",
            "Epoch: [0]  [124/125]  eta: 0:00:02  lr: 0.005000  loss: 0.2237 (0.5316)  loss_classifier: 0.1035 (0.2702)  loss_box_reg: 0.1087 (0.2442)  loss_objectness: 0.0029 (0.0109)  loss_rpn_box_reg: 0.0039 (0.0062)  time: 2.2496  data: 0.0796  max mem: 10180\n",
            "Epoch: [0] Total time: 0:04:39 (2.2377 s / it)\n",
            "creating index...\n",
            "index created!\n",
            "Test:  [0/7]  eta: 0:00:07  model_time: 0.9553 (0.9553)  evaluator_time: 0.0188 (0.0188)  time: 1.0679  data: 0.0867  max mem: 10180\n",
            "Test:  [6/7]  eta: 0:00:00  model_time: 0.9193 (0.8361)  evaluator_time: 0.0147 (0.0145)  time: 0.9300  data: 0.0728  max mem: 10180\n",
            "Test: Total time: 0:00:06 (0.9305 s / it)\n",
            "Averaged stats: model_time: 0.9193 (0.8361)  evaluator_time: 0.0147 (0.0145)\n",
            "Accumulating evaluation results...\n",
            "DONE (t=0.04s).\n",
            "IoU metric: bbox\n",
            " Average Precision  (AP) @[ IoU=0.50:0.95 | area=   all | maxDets=100 ] = 0.573\n",
            " Average Precision  (AP) @[ IoU=0.50      | area=   all | maxDets=100 ] = 0.969\n",
            " Average Precision  (AP) @[ IoU=0.75      | area=   all | maxDets=100 ] = 0.638\n",
            " Average Precision  (AP) @[ IoU=0.50:0.95 | area= small | maxDets=100 ] = -1.000\n",
            " Average Precision  (AP) @[ IoU=0.50:0.95 | area=medium | maxDets=100 ] = 0.435\n",
            " Average Precision  (AP) @[ IoU=0.50:0.95 | area= large | maxDets=100 ] = 0.575\n",
            " Average Recall     (AR) @[ IoU=0.50:0.95 | area=   all | maxDets=  1 ] = 0.581\n",
            " Average Recall     (AR) @[ IoU=0.50:0.95 | area=   all | maxDets= 10 ] = 0.649\n",
            " Average Recall     (AR) @[ IoU=0.50:0.95 | area=   all | maxDets=100 ] = 0.649\n",
            " Average Recall     (AR) @[ IoU=0.50:0.95 | area= small | maxDets=100 ] = -1.000\n",
            " Average Recall     (AR) @[ IoU=0.50:0.95 | area=medium | maxDets=100 ] = 0.688\n",
            " Average Recall     (AR) @[ IoU=0.50:0.95 | area= large | maxDets=100 ] = 0.646\n",
            "Epoch: [1]  [  0/125]  eta: 0:04:49  lr: 0.005000  loss: 0.2980 (0.2980)  loss_classifier: 0.1188 (0.1188)  loss_box_reg: 0.1678 (0.1678)  loss_objectness: 0.0031 (0.0031)  loss_rpn_box_reg: 0.0083 (0.0083)  time: 2.3125  data: 0.0855  max mem: 10180\n",
            "Epoch: [1]  [  5/125]  eta: 0:04:37  lr: 0.005000  loss: 0.1822 (0.2152)  loss_classifier: 0.0697 (0.0747)  loss_box_reg: 0.1087 (0.1325)  loss_objectness: 0.0022 (0.0040)  loss_rpn_box_reg: 0.0031 (0.0039)  time: 2.3118  data: 0.0816  max mem: 10180\n",
            "Epoch: [1]  [ 10/125]  eta: 0:04:25  lr: 0.005000  loss: 0.1780 (0.1895)  loss_classifier: 0.0487 (0.0609)  loss_box_reg: 0.1087 (0.1219)  loss_objectness: 0.0022 (0.0030)  loss_rpn_box_reg: 0.0035 (0.0037)  time: 2.3116  data: 0.0832  max mem: 10180\n",
            "Epoch: [1]  [ 15/125]  eta: 0:04:13  lr: 0.005000  loss: 0.1622 (0.1834)  loss_classifier: 0.0454 (0.0607)  loss_box_reg: 0.1086 (0.1166)  loss_objectness: 0.0015 (0.0024)  loss_rpn_box_reg: 0.0035 (0.0036)  time: 2.3066  data: 0.0823  max mem: 10180\n",
            "Epoch: [1]  [ 20/125]  eta: 0:04:02  lr: 0.005000  loss: 0.1780 (0.2016)  loss_classifier: 0.0487 (0.0747)  loss_box_reg: 0.1087 (0.1209)  loss_objectness: 0.0017 (0.0026)  loss_rpn_box_reg: 0.0033 (0.0034)  time: 2.3052  data: 0.0810  max mem: 10180\n",
            "Epoch: [1]  [ 25/125]  eta: 0:03:50  lr: 0.005000  loss: 0.1841 (0.2019)  loss_classifier: 0.0499 (0.0773)  loss_box_reg: 0.1066 (0.1184)  loss_objectness: 0.0017 (0.0025)  loss_rpn_box_reg: 0.0034 (0.0037)  time: 2.3035  data: 0.0809  max mem: 10180\n",
            "Epoch: [1]  [ 30/125]  eta: 0:03:39  lr: 0.005000  loss: 0.1909 (0.2080)  loss_classifier: 0.0787 (0.0781)  loss_box_reg: 0.1066 (0.1214)  loss_objectness: 0.0017 (0.0031)  loss_rpn_box_reg: 0.0034 (0.0054)  time: 2.3038  data: 0.0802  max mem: 10180\n",
            "Epoch: [1]  [ 35/125]  eta: 0:03:27  lr: 0.005000  loss: 0.1909 (0.2047)  loss_classifier: 0.0787 (0.0755)  loss_box_reg: 0.1136 (0.1210)  loss_objectness: 0.0017 (0.0029)  loss_rpn_box_reg: 0.0035 (0.0053)  time: 2.3071  data: 0.0807  max mem: 10180\n",
            "Epoch: [1]  [ 40/125]  eta: 0:03:16  lr: 0.005000  loss: 0.1854 (0.2038)  loss_classifier: 0.0533 (0.0732)  loss_box_reg: 0.1136 (0.1228)  loss_objectness: 0.0015 (0.0027)  loss_rpn_box_reg: 0.0035 (0.0051)  time: 2.3108  data: 0.0816  max mem: 10180\n",
            "Epoch: [1]  [ 45/125]  eta: 0:03:04  lr: 0.005000  loss: 0.1854 (0.2049)  loss_classifier: 0.0533 (0.0733)  loss_box_reg: 0.1176 (0.1237)  loss_objectness: 0.0017 (0.0028)  loss_rpn_box_reg: 0.0036 (0.0051)  time: 2.3138  data: 0.0820  max mem: 10180\n",
            "Epoch: [1]  [ 50/125]  eta: 0:02:53  lr: 0.005000  loss: 0.1908 (0.2043)  loss_classifier: 0.0542 (0.0732)  loss_box_reg: 0.1176 (0.1234)  loss_objectness: 0.0017 (0.0028)  loss_rpn_box_reg: 0.0036 (0.0049)  time: 2.3159  data: 0.0820  max mem: 10180\n",
            "Epoch: [1]  [ 55/125]  eta: 0:02:41  lr: 0.005000  loss: 0.1854 (0.1985)  loss_classifier: 0.0521 (0.0701)  loss_box_reg: 0.1103 (0.1210)  loss_objectness: 0.0020 (0.0027)  loss_rpn_box_reg: 0.0031 (0.0047)  time: 2.3179  data: 0.0812  max mem: 10180\n",
            "Epoch: [1]  [ 60/125]  eta: 0:02:30  lr: 0.005000  loss: 0.1530 (0.1936)  loss_classifier: 0.0494 (0.0679)  loss_box_reg: 0.1015 (0.1184)  loss_objectness: 0.0025 (0.0027)  loss_rpn_box_reg: 0.0029 (0.0046)  time: 2.3179  data: 0.0807  max mem: 10180\n",
            "Epoch: [1]  [ 65/125]  eta: 0:02:18  lr: 0.005000  loss: 0.1422 (0.1895)  loss_classifier: 0.0420 (0.0660)  loss_box_reg: 0.0937 (0.1164)  loss_objectness: 0.0020 (0.0026)  loss_rpn_box_reg: 0.0030 (0.0045)  time: 2.3196  data: 0.0808  max mem: 10180\n",
            "Epoch: [1]  [ 70/125]  eta: 0:02:07  lr: 0.005000  loss: 0.1422 (0.1900)  loss_classifier: 0.0397 (0.0662)  loss_box_reg: 0.0937 (0.1167)  loss_objectness: 0.0012 (0.0027)  loss_rpn_box_reg: 0.0029 (0.0044)  time: 2.3194  data: 0.0814  max mem: 10180\n",
            "Epoch: [1]  [ 75/125]  eta: 0:01:55  lr: 0.005000  loss: 0.1484 (0.1936)  loss_classifier: 0.0483 (0.0688)  loss_box_reg: 0.1015 (0.1177)  loss_objectness: 0.0021 (0.0027)  loss_rpn_box_reg: 0.0033 (0.0044)  time: 2.3142  data: 0.0813  max mem: 10180\n",
            "Epoch: [1]  [ 80/125]  eta: 0:01:44  lr: 0.005000  loss: 0.1817 (0.1934)  loss_classifier: 0.0697 (0.0697)  loss_box_reg: 0.1062 (0.1166)  loss_objectness: 0.0016 (0.0027)  loss_rpn_box_reg: 0.0035 (0.0045)  time: 2.3137  data: 0.0809  max mem: 10180\n",
            "Epoch: [1]  [ 85/125]  eta: 0:01:32  lr: 0.005000  loss: 0.1929 (0.1937)  loss_classifier: 0.0898 (0.0702)  loss_box_reg: 0.1084 (0.1163)  loss_objectness: 0.0020 (0.0027)  loss_rpn_box_reg: 0.0036 (0.0045)  time: 2.3110  data: 0.0807  max mem: 10180\n",
            "Epoch: [1]  [ 90/125]  eta: 0:01:20  lr: 0.005000  loss: 0.2209 (0.2005)  loss_classifier: 0.0901 (0.0740)  loss_box_reg: 0.1138 (0.1191)  loss_objectness: 0.0021 (0.0028)  loss_rpn_box_reg: 0.0041 (0.0046)  time: 2.3108  data: 0.0807  max mem: 10180\n",
            "Epoch: [1]  [ 95/125]  eta: 0:01:09  lr: 0.005000  loss: 0.1758 (0.1977)  loss_classifier: 0.0622 (0.0726)  loss_box_reg: 0.1006 (0.1178)  loss_objectness: 0.0018 (0.0028)  loss_rpn_box_reg: 0.0041 (0.0046)  time: 2.3167  data: 0.0804  max mem: 10180\n",
            "Epoch: [1]  [100/125]  eta: 0:00:57  lr: 0.005000  loss: 0.1643 (0.1969)  loss_classifier: 0.0570 (0.0715)  loss_box_reg: 0.1093 (0.1182)  loss_objectness: 0.0017 (0.0027)  loss_rpn_box_reg: 0.0031 (0.0045)  time: 2.3192  data: 0.0803  max mem: 10180\n",
            "Epoch: [1]  [105/125]  eta: 0:00:46  lr: 0.005000  loss: 0.1717 (0.1963)  loss_classifier: 0.0516 (0.0714)  loss_box_reg: 0.1116 (0.1178)  loss_objectness: 0.0011 (0.0026)  loss_rpn_box_reg: 0.0031 (0.0045)  time: 2.3216  data: 0.0797  max mem: 10180\n",
            "Epoch: [1]  [110/125]  eta: 0:00:34  lr: 0.005000  loss: 0.1697 (0.1949)  loss_classifier: 0.0496 (0.0707)  loss_box_reg: 0.1006 (0.1173)  loss_objectness: 0.0008 (0.0026)  loss_rpn_box_reg: 0.0025 (0.0044)  time: 2.3249  data: 0.0791  max mem: 10180\n",
            "Epoch: [1]  [115/125]  eta: 0:00:23  lr: 0.005000  loss: 0.1697 (0.1933)  loss_classifier: 0.0534 (0.0700)  loss_box_reg: 0.1028 (0.1164)  loss_objectness: 0.0008 (0.0025)  loss_rpn_box_reg: 0.0026 (0.0044)  time: 2.3262  data: 0.0794  max mem: 10180\n",
            "Epoch: [1]  [120/125]  eta: 0:00:11  lr: 0.005000  loss: 0.1593 (0.1906)  loss_classifier: 0.0534 (0.0689)  loss_box_reg: 0.0975 (0.1149)  loss_objectness: 0.0007 (0.0025)  loss_rpn_box_reg: 0.0024 (0.0043)  time: 2.3251  data: 0.0798  max mem: 10180\n",
            "Epoch: [1]  [124/125]  eta: 0:00:02  lr: 0.005000  loss: 0.1551 (0.1873)  loss_classifier: 0.0449 (0.0675)  loss_box_reg: 0.0932 (0.1131)  loss_objectness: 0.0010 (0.0024)  loss_rpn_box_reg: 0.0025 (0.0043)  time: 2.2683  data: 0.0784  max mem: 10180\n",
            "Epoch: [1] Total time: 0:04:48 (2.3069 s / it)\n",
            "creating index...\n",
            "index created!\n",
            "Test:  [0/7]  eta: 0:00:07  model_time: 0.9529 (0.9529)  evaluator_time: 0.0116 (0.0116)  time: 1.0531  data: 0.0815  max mem: 10180\n",
            "Test:  [6/7]  eta: 0:00:00  model_time: 0.9224 (0.8371)  evaluator_time: 0.0103 (0.0097)  time: 0.9232  data: 0.0699  max mem: 10180\n",
            "Test: Total time: 0:00:06 (0.9236 s / it)\n",
            "Averaged stats: model_time: 0.9224 (0.8371)  evaluator_time: 0.0103 (0.0097)\n",
            "Accumulating evaluation results...\n",
            "DONE (t=0.03s).\n",
            "IoU metric: bbox\n",
            " Average Precision  (AP) @[ IoU=0.50:0.95 | area=   all | maxDets=100 ] = 0.763\n",
            " Average Precision  (AP) @[ IoU=0.50      | area=   all | maxDets=100 ] = 0.991\n",
            " Average Precision  (AP) @[ IoU=0.75      | area=   all | maxDets=100 ] = 0.991\n",
            " Average Precision  (AP) @[ IoU=0.50:0.95 | area= small | maxDets=100 ] = -1.000\n",
            " Average Precision  (AP) @[ IoU=0.50:0.95 | area=medium | maxDets=100 ] = 0.496\n",
            " Average Precision  (AP) @[ IoU=0.50:0.95 | area= large | maxDets=100 ] = 0.769\n",
            " Average Recall     (AR) @[ IoU=0.50:0.95 | area=   all | maxDets=  1 ] = 0.723\n",
            " Average Recall     (AR) @[ IoU=0.50:0.95 | area=   all | maxDets= 10 ] = 0.804\n",
            " Average Recall     (AR) @[ IoU=0.50:0.95 | area=   all | maxDets=100 ] = 0.804\n",
            " Average Recall     (AR) @[ IoU=0.50:0.95 | area= small | maxDets=100 ] = -1.000\n",
            " Average Recall     (AR) @[ IoU=0.50:0.95 | area=medium | maxDets=100 ] = 0.675\n",
            " Average Recall     (AR) @[ IoU=0.50:0.95 | area= large | maxDets=100 ] = 0.809\n",
            "Saving the trained model\n"
          ]
        }
      ]
    },
    {
      "cell_type": "code",
      "source": [
        "# pick one image from the test set\n",
        "img, _ = test_split[0]\n",
        "# put the model in evaluation mode\n",
        "model.eval()\n",
        "with torch.no_grad():\n",
        "    prediction = model([img.to(device)])\n",
        "    \n",
        "Image.fromarray(img.mul(255).permute(1, 2, 0).byte().numpy())"
      ],
      "metadata": {
        "id": "0My6jJwTG8Gp"
      },
      "execution_count": null,
      "outputs": []
    },
    {
      "cell_type": "code",
      "source": [
        "# sample one mini-batch\n",
        "images, boxes = next(iter(train_loader))\n",
        "# map of label to class name\n",
        "class_labels = {i: label_utils.index2class(i) for i in train_classes}\n",
        "\n",
        "#run.display(height=1000)\n",
        "table = wandb.Table(columns=['Image'])\n",
        "\n",
        "# we use wandb to visualize the objects and bounding boxes\n",
        "for image, box in zip(images, boxes):\n",
        "    dict = []\n",
        "    for i in range(box.shape[0]):\n",
        "        if box[i, -1] == 0:\n",
        "            continue\n",
        "        dict_item = {}\n",
        "        dict_item[\"position\"] = {\n",
        "            \"minX\": box[i, 0].item(),\n",
        "            \"maxX\": box[i, 1].item(),\n",
        "            \"minY\": box[i, 2].item(),\n",
        "            \"maxY\": box[i, 3].item(),\n",
        "        }\n",
        "        dict_item[\"domain\"] = \"pixel\"\n",
        "        dict_item[\"class_id\"] = (int)(box[i, 4].item())\n",
        "        dict_item[\"box_caption\"] = label_utils.index2class(\n",
        "            dict_item[\"class_id\"])\n",
        "        dict.append(dict_item)\n",
        "\n",
        "    img = wandb.Image(image, boxes={\n",
        "        \"ground_truth\": {\n",
        "            \"box_data\": dict,\n",
        "            \"class_labels\": class_labels\n",
        "        }\n",
        "    })\n",
        "    table.add_data(img)\n",
        "\n",
        "wandb.log({\"train_loader\": table})\n",
        "wandb.finish()"
      ],
      "metadata": {
        "id": "TxuMUSZEWabC"
      },
      "execution_count": null,
      "outputs": []
    }
  ]
}